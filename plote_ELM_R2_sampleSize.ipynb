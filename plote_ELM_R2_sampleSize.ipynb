{
 "cells": [
  {
   "cell_type": "code",
   "execution_count": 1,
   "id": "d47b0452-8bc2-41a5-9eb2-b8111e98c370",
   "metadata": {},
   "outputs": [],
   "source": [
    "import numpy as np\n",
    "import pandas  as pd\n",
    "from sklearn.datasets import fetch_california_housing\n",
    "from sklearn.model_selection import train_test_split\n",
    "from sklearn.preprocessing import StandardScaler\n",
    "from sklearn.preprocessing import RobustScaler\n",
    "from sklearn.metrics import mean_squared_error,r2_score\n",
    "import matplotlib.pyplot as plt\n",
    "from scipy import linalg\n",
    "from math import sqrt"
   ]
  },
  {
   "cell_type": "code",
   "execution_count": 2,
   "id": "53cf2206-07e3-484d-9abf-a479245f122a",
   "metadata": {},
   "outputs": [
    {
     "data": {
      "text/plain": [
       "['X_a2_sc', 'y_a2']"
      ]
     },
     "execution_count": 2,
     "metadata": {},
     "output_type": "execute_result"
    }
   ],
   "source": [
    "client1 =np.load(\"client1.npz\")\n",
    "client2 =np.load(\"client2.npz\")\n",
    "client3 =np.load(\"client3.npz\")\n",
    "client2.files"
   ]
  },
  {
   "cell_type": "code",
   "execution_count": 3,
   "id": "1b46e39c-59e4-47c3-a5b4-9445d4c9181b",
   "metadata": {},
   "outputs": [
    {
     "data": {
      "text/plain": [
       "((100, 8), (312,), (1000, 8), (4080,), (10000, 8), (5148, 8))"
      ]
     },
     "execution_count": 3,
     "metadata": {},
     "output_type": "execute_result"
    }
   ],
   "source": [
    "X_a1_t,X_a1_s,y_a1_t,y_a1_s  = client1[\"X_a1_sc\"][:100],client1[\"X_a1_sc\"][100:],client1[\"y_a1\"][:100],client1[\"y_a1\"][100:]\n",
    "X_a2_t,X_a2_s,y_a2_t,y_a2_s  = client2[\"X_a2_sc\"][:1000],client2[\"X_a2_sc\"][1000:],client2[\"y_a2\"][:1000],client2[\"y_a2\"][1000:]\n",
    "X_a3_t, X_a3_s, y_a3_t, y_a3_s = client3[\"X_a3_sc\"][:10000],client3[\"X_a3_sc\"][10000:],client3[\"y_a3\"][:10000],client3[\"y_a3\"][10000:]\n",
    "                                                  \n",
    "X_a1_t.shape, y_a1_s.shape,X_a2_t.shape,y_a2_s.shape,X_a3_t.shape, X_a3_s.shape"
   ]
  },
  {
   "cell_type": "code",
   "execution_count": null,
   "id": "02432d4a-28e9-419c-8a77-a2a27e53e768",
   "metadata": {},
   "outputs": [],
   "source": []
  },
  {
   "cell_type": "code",
   "execution_count": 4,
   "id": "28fc46b6-1eae-4ab5-b6c4-9c11e3f8c70e",
   "metadata": {},
   "outputs": [],
   "source": [
    "# l is Number of hidden neurons\n",
    "    \n",
    "def ELM_L2(l, X_train, X_test, y_train, y_test, alpha = 1e-5):\n",
    "    \n",
    "    # Generate random input-to-hidden weights and bias\n",
    "    n = X_train.shape[1]\n",
    "    w = np.random.randn(n, l)\n",
    "    b = np.random.randn(1, l)\n",
    "    \n",
    "    \n",
    "    # Compute the hidden layer output \n",
    "    H = np.tanh(np.dot(X_train, w) + b)  # Apply activation function (tanh)\n",
    "    \n",
    "    # Calculate the output weights using the Moore-Penrose pseudoinverse\n",
    "    B = np.dot(linalg.pinv(H.T.dot(H) + alpha *np. eye(l)), H.T.dot(y_train)) #output_weights\n",
    "    \n",
    "\n",
    "    # Calculate the predicted output on the training set\n",
    "    pred_train = np.dot(H, B)\n",
    "\n",
    "    # Calculate the predicted output on the testing set\n",
    "    H_test = np.tanh(np.dot(X_test, w) + b)\n",
    "    pred_test = np.dot(H_test, B)\n",
    "\n",
    "    # Calculate the mean squared error on the training and testing sets\n",
    "    rmse_train = sqrt(mean_squared_error(y_train, pred_train))\n",
    "    rmse_test = sqrt(mean_squared_error(y_test, pred_test))\n",
    "    r2 = r2_score(y_test, pred_test)\n",
    "    \n",
    "\n",
    "    return r2, rmse_test ,w ,B , b  \n"
   ]
  },
  {
   "cell_type": "code",
   "execution_count": null,
   "id": "9da1c002-2ac7-4cdf-b81f-4e835502d6ad",
   "metadata": {},
   "outputs": [],
   "source": []
  },
  {
   "cell_type": "markdown",
   "id": "06378a7c-7be8-4f0e-977e-75172f34f4fc",
   "metadata": {},
   "source": [
    "The root mean square error (RMSE) measures the average difference between a statistical model's predicted values and the actual values. Mathematically, it is the standard deviation of the residuals. Residuals represent the distance between the regression line and the data points."
   ]
  },
  {
   "cell_type": "code",
   "execution_count": 23,
   "id": "ba535ab9-f618-4117-9ac2-971144f0bdac",
   "metadata": {},
   "outputs": [],
   "source": [
    "c1_par_L2= np.load(\"client1_par_L2.npz\") #neurons and alpha\n",
    "c2_par_L2= np.load(\"client2_par_L2.npz\") #neurons and alpha\n",
    "c3_par_L2= np.load(\"client3_par_L2.npz\") #neurons and alpha"
   ]
  },
  {
   "cell_type": "code",
   "execution_count": 10,
   "id": "7dc20c2d-8c40-4832-96fb-109f109aee8a",
   "metadata": {},
   "outputs": [
    {
     "data": {
      "text/plain": [
       "['w', 'B', 'b', 'n_nuerons', 'reg_cof']"
      ]
     },
     "execution_count": 10,
     "metadata": {},
     "output_type": "execute_result"
    }
   ],
   "source": [
    "c1_par_L2.files"
   ]
  },
  {
   "cell_type": "code",
   "execution_count": 11,
   "id": "fa4f65b3-922b-49b1-adce-a1b6d409a18a",
   "metadata": {},
   "outputs": [],
   "source": [
    "# Print the accuracies for different training data sizes\n",
    "def acc_test_L2(X, y, X_test, y_test,l=10,alpha=1e-2,start=10,ranges=10):\n",
    "    accuracies = {}\n",
    "    accuracies_r2 = {}\n",
    "    for size in range(start, len(X)+1, ranges):\n",
    "        r2,rmse,_,_,_=ELM_L2(l, X[:size], X_test, y[:size], y_test, alpha)\n",
    "        accuracies_r2[size] = r2\n",
    "        accuracies[size]=rmse\n",
    "    return accuracies, accuracies_r2\n"
   ]
  },
  {
   "cell_type": "markdown",
   "id": "7ebe40c0-3c40-49fc-b439-cfb0ad351f12",
   "metadata": {},
   "source": [
    "# Print the accuracies for different training data sizes\n",
    "def acc_test_bias(X,y,l=10,start=10, ranges=10):\n",
    "    accuracies = {}\n",
    "    accuracies_r2 = {}\n",
    "    for size in range(start, len(X), ranges):\n",
    "        r2,rmse,_,_,_=ELM_bias(l, X[:size],X[size:],y[:size],y[size:])\n",
    "        accuracies_r2[size] = r2\n",
    "        accuracies[size]=rmse\n",
    "    return accuracies, accuracies_r2"
   ]
  },
  {
   "cell_type": "code",
   "execution_count": null,
   "id": "d3a40bc6-6b89-4495-9eaa-39ab0952d182",
   "metadata": {},
   "outputs": [],
   "source": []
  },
  {
   "cell_type": "markdown",
   "id": "1b0cac5f-da09-4117-ae61-88dd2c09ad81",
   "metadata": {},
   "source": [
    "For client 1"
   ]
  },
  {
   "cell_type": "code",
   "execution_count": 24,
   "id": "4e9d58e0-1155-4292-89a1-48cbc6f6e5e4",
   "metadata": {},
   "outputs": [
    {
     "data": {
      "text/plain": [
       "(20, 0.001)"
      ]
     },
     "execution_count": 24,
     "metadata": {},
     "output_type": "execute_result"
    }
   ],
   "source": [
    "l_L2= int(c1_par_L2[\"n_nuerons\"]) # l is Number of hidden neurons\n",
    "alpha_L2= float(c1_par_L2[\"reg_cof\"])\n",
    "l_L2, alpha_L2, "
   ]
  },
  {
   "cell_type": "code",
   "execution_count": 25,
   "id": "f4e0eb9c-bb32-475b-b01c-307c78b7a148",
   "metadata": {},
   "outputs": [],
   "source": [
    "c1_err_t_L2, c1_r2_L2 = acc_test_L2(X_a1_t, y_a1_t, X_a1_s, y_a1_s, l=l_L2,alpha=alpha_L2,start=10, ranges=10)\n"
   ]
  },
  {
   "cell_type": "code",
   "execution_count": 15,
   "id": "63266319-135f-4809-ac75-c6a9357a725d",
   "metadata": {},
   "outputs": [],
   "source": [
    "c1_k_r2_L2=list(c1_r2_L2.keys())\n",
    "c1_v_r2_L2=list(c1_r2_L2.values())"
   ]
  },
  {
   "cell_type": "code",
   "execution_count": 16,
   "id": "d530a3e6-a641-43c9-aaca-696df32f412d",
   "metadata": {},
   "outputs": [
    {
     "data": {
      "image/png": "[encoded data removed]",
      "text/plain": [
       "<Figure size 432x288 with 1 Axes>"
      ]
     },
     "metadata": {
      "needs_background": "light"
     },
     "output_type": "display_data"
    }
   ],
   "source": [
    "plt.plot(c1_k_r2_L2,c1_v_r2_L2, label=\"client1 ELM L2,R2_test \",marker='<')\n",
    "#plt.plot(c1_k_r2_bias,c1_v_r2_bias, label=\"client1 ELM bias,R2_tes \",marker='<')\n",
    "plt.grid(\"major\")\n",
    "plt.ylim(-50, 1)\n",
    "plt.xlabel(\"sample size\")\n",
    "plt.ylabel(\"R2 \")\n",
    "#plt.gca().invert_xaxis()\n",
    "plt.legend()\n",
    "plt.show()"
   ]
  },
  {
   "cell_type": "markdown",
   "id": "06dc99bf-1029-459c-803a-821ecfad29d2",
   "metadata": {},
   "source": [
    "plt.plot(c1_k_r2_bias,c1_v_r2_bias, label=\"client1 ELM bias,R2_tes \",marker='<')\n",
    "plt.xlabel(\"sample size\")\n",
    "plt.ylabel(\"root mean square error \")\n",
    "plt.ylim(-10, 1)\n",
    "#plt.gca().invert_xaxis()\n",
    "plt.legend()"
   ]
  },
  {
   "cell_type": "code",
   "execution_count": null,
   "id": "2efb32ae-77ed-4e69-b835-d7fab5956dd5",
   "metadata": {},
   "outputs": [],
   "source": []
  },
  {
   "cell_type": "markdown",
   "id": "e3754842-ed80-4533-84e6-d600fafdd0b9",
   "metadata": {},
   "source": [
    "For client2"
   ]
  },
  {
   "cell_type": "code",
   "execution_count": 26,
   "id": "a3358474-94cc-424e-8033-6dc1eb55391b",
   "metadata": {},
   "outputs": [],
   "source": [
    "c2_l_L2= int(c2_par_L2[\"n_nuerons\"]) # l is Number of hidden neurons\n",
    "c2_alpha_L2= float(c2_par_L2[\"reg_cof\"])\n"
   ]
  },
  {
   "cell_type": "code",
   "execution_count": 27,
   "id": "953f61b7-1b79-4d2d-81c5-29ec0ccda6e8",
   "metadata": {},
   "outputs": [],
   "source": [
    "c2_err_t_L2, c2_r2_L2 = acc_test_L2(X_a2_t, y_a2_t, X_a2_s, y_a2_s, l=c2_l_L2,alpha=alpha_L2,start=100, ranges=100)\n"
   ]
  },
  {
   "cell_type": "code",
   "execution_count": 20,
   "id": "a9656222-7d7a-4a32-8903-f3e525c59d84",
   "metadata": {},
   "outputs": [],
   "source": [
    "c2_k_r2_L2=list(c2_r2_L2.keys())\n",
    "c2_v_r2_L2=list(c2_r2_L2.values())"
   ]
  },
  {
   "cell_type": "code",
   "execution_count": 28,
   "id": "a2cfb094-e5d0-4001-b884-6e12694804eb",
   "metadata": {},
   "outputs": [
    {
     "data": {
      "text/plain": [
       "<matplotlib.legend.Legend at 0x7f93882ccca0>"
      ]
     },
     "execution_count": 28,
     "metadata": {},
     "output_type": "execute_result"
    },
    {
     "data": {
      "image/png": "[encoded data removed]",
      "text/plain": [
       "<Figure size 432x288 with 1 Axes>"
      ]
     },
     "metadata": {
      "needs_background": "light"
     },
     "output_type": "display_data"
    }
   ],
   "source": [
    "\n",
    "plt.plot(c2_k_r2_L2,c2_v_r2_L2, label=\"client1 ELM L2,R2_test \",marker='<')\n",
    "plt.xlabel(\"sample size\")\n",
    "plt.grid(\"major\")\n",
    "# plt.ylim(-50, 1)\n",
    "plt.ylabel(\"root mean square error \")\n",
    "#plt.gca().invert_xaxis()\n",
    "plt.legend()"
   ]
  },
  {
   "cell_type": "code",
   "execution_count": 29,
   "id": "44809b92-a841-472d-b866-cac5754decb1",
   "metadata": {},
   "outputs": [
    {
     "data": {
      "text/plain": [
       "<matplotlib.legend.Legend at 0x7f93882e82b0>"
      ]
     },
     "execution_count": 29,
     "metadata": {},
     "output_type": "execute_result"
    },
    {
     "data": {
      "image/png": "[encoded data removed]",
      "text/plain": [
       "<Figure size 432x288 with 1 Axes>"
      ]
     },
     "metadata": {
      "needs_background": "light"
     },
     "output_type": "display_data"
    }
   ],
   "source": [
    "plt.plot(c2_k_r2_L2,c2_v_r2_L2, label=\"client1 ELM L2,R2_test \",marker='<')\n",
    "plt.xlabel(\"sample size\")\n",
    "plt.grid(\"major\")\n",
    "plt.ylim(-0.1, 1)\n",
    "plt.ylabel(\"root mean square error \")\n",
    "#plt.gca().invert_xaxis()\n",
    "plt.legend()"
   ]
  },
  {
   "cell_type": "code",
   "execution_count": null,
   "id": "770237f0-a8aa-458d-ae0f-9c623e437211",
   "metadata": {},
   "outputs": [],
   "source": []
  },
  {
   "cell_type": "markdown",
   "id": "c214df29-a651-4e07-96e7-0af4463a1828",
   "metadata": {},
   "source": [
    "For client3"
   ]
  },
  {
   "cell_type": "code",
   "execution_count": 30,
   "id": "10ad9d40-f744-4bb4-b68b-44610b7ca64d",
   "metadata": {},
   "outputs": [],
   "source": [
    "c3_l_L2= int(c3_par_L2[\"n_nuerons\"]) # l is Number of hidden neurons\n",
    "c3_alpha_L2= float(c3_par_L2[\"reg_cof\"])\n"
   ]
  },
  {
   "cell_type": "code",
   "execution_count": 31,
   "id": "bb6bef94-51f6-4a7c-a714-0ffa5d4fc9d1",
   "metadata": {},
   "outputs": [],
   "source": [
    "c3_err_t_L2, c3_r2_L2 = acc_test_L2(X_a3_t, y_a3_t, X_a3_s, y_a3_s, l=c3_l_L2,alpha=alpha_L2, start=100, ranges=100)\n"
   ]
  },
  {
   "cell_type": "code",
   "execution_count": 33,
   "id": "dcb007fa-21d2-4d1d-aaf8-23e48ff7a292",
   "metadata": {},
   "outputs": [],
   "source": [
    "c3_k_r2_L2=list(c3_r2_L2.keys())\n",
    "c3_v_r2_L2=list(c3_r2_L2.values())"
   ]
  },
  {
   "cell_type": "code",
   "execution_count": 35,
   "id": "8e7738dc-2ae2-4c61-9e3a-2f1a13c863c7",
   "metadata": {},
   "outputs": [
    {
     "data": {
      "text/plain": [
       "<matplotlib.legend.Legend at 0x7f936cd3ccd0>"
      ]
     },
     "execution_count": 35,
     "metadata": {},
     "output_type": "execute_result"
    },
    {
     "data": {
      "image/png": "[encoded data removed]",
      "text/plain": [
       "<Figure size 432x288 with 1 Axes>"
      ]
     },
     "metadata": {
      "needs_background": "light"
     },
     "output_type": "display_data"
    }
   ],
   "source": [
    "\n",
    "plt.plot(c3_k_r2_L2,c3_v_r2_L2, label=\"client1 ELM with L2,R2_test \",marker='<')\n",
    "plt.xlabel(\"sample size\")\n",
    "plt.ylabel(\"R2 \")\n",
    "plt.grid(\"major\")\n",
    "plt.ylim(0, 1)\n",
    "#plt.gca().invert_xaxis()\n",
    "plt.legend()"
   ]
  },
  {
   "cell_type": "code",
   "execution_count": null,
   "id": "1a673d4c-cfaf-4baf-afc5-7f0e0477d7ac",
   "metadata": {},
   "outputs": [],
   "source": []
  }
 ],
 "metadata": {
  "kernelspec": {
   "display_name": "Python 3 (ipykernel)",
   "language": "python",
   "name": "python3"
  },
  "language_info": {
   "codemirror_mode": {
    "name": "ipython",
    "version": 3
   },
   "file_extension": ".py",
   "mimetype": "text/x-python",
   "name": "python",
   "nbconvert_exporter": "python",
   "pygments_lexer": "ipython3",
   "version": "3.9.12"
  }
 },
 "nbformat": 4,
 "nbformat_minor": 5
}
