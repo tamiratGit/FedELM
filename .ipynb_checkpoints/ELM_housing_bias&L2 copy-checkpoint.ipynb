{
 "cells": [
  {
   "cell_type": "code",
   "execution_count": 140,
   "id": "9afab08e-19bb-4b22-b57a-71947452be4f",
   "metadata": {},
   "outputs": [],
   "source": [
    "import numpy as np\n",
    "import pandas  as pd\n",
    "from sklearn.datasets import fetch_california_housing\n",
    "from sklearn.model_selection import train_test_split\n",
    "from sklearn.preprocessing import StandardScaler\n",
    "from sklearn.preprocessing import RobustScaler\n",
    "from sklearn.metrics import mean_squared_error\n",
    "import matplotlib.pyplot as plt\n",
    "from scipy import linalg\n",
    "\n",
    "# Load the California Housing dataset\n",
    "data = fetch_california_housing()\n",
    "X, y = data.data, data.target"
   ]
  },
  {
   "cell_type": "code",
   "execution_count": 141,
   "id": "9db93813-2295-4949-8ff0-5d6ea74203fc",
   "metadata": {},
   "outputs": [
    {
     "data": {
      "text/plain": [
       "((20640, 8), (20640,))"
      ]
     },
     "execution_count": 141,
     "metadata": {},
     "output_type": "execute_result"
    }
   ],
   "source": [
    "X.shape, y.shape"
   ]
  },
  {
   "cell_type": "code",
   "execution_count": null,
   "id": "70c6fdf2-74b6-41fc-b31a-15eaa01117d6",
   "metadata": {},
   "outputs": [],
   "source": []
  },
  {
   "cell_type": "code",
   "execution_count": 142,
   "id": "721c4166-eab6-4825-9f17-b827e57fca6f",
   "metadata": {},
   "outputs": [],
   "source": [
    "X_a1 = X[X[:,-2] > 40, :]\n",
    "X_a2 = X[X[:,-1] > -118, :]\n",
    "X_a3 = X[np.where((X[:,-2] <= 40) & (X[:,-1] <= -118))[0], :]"
   ]
  },
  {
   "cell_type": "code",
   "execution_count": 143,
   "id": "72c5d0b2-510b-45ad-932a-4d5e9fb466cd",
   "metadata": {},
   "outputs": [
    {
     "data": {
      "text/plain": [
       "((412, 8), (5080, 8), (15148, 8), (100,))"
      ]
     },
     "execution_count": 143,
     "metadata": {},
     "output_type": "execute_result"
    }
   ],
   "source": [
    "X_a1.shape, X_a2.shape, X_a3.shape, y_a1.shape"
   ]
  },
  {
   "cell_type": "code",
   "execution_count": 144,
   "id": "f2ddcc38-44c7-4689-b839-3f201dcd4149",
   "metadata": {},
   "outputs": [],
   "source": [
    "#plt.scatter(X[:,-2], X[:,-1])"
   ]
  },
  {
   "cell_type": "code",
   "execution_count": null,
   "id": "0774295b-524f-4edf-80dd-3f82e179262a",
   "metadata": {},
   "outputs": [],
   "source": []
  },
  {
   "cell_type": "code",
   "execution_count": 145,
   "id": "fb977d0e-fcdc-4dba-96b0-bfb044bfdbfb",
   "metadata": {},
   "outputs": [
    {
     "data": {
      "text/plain": [
       "<matplotlib.collections.PathCollection at 0x7fa20d4314c0>"
      ]
     },
     "execution_count": 145,
     "metadata": {},
     "output_type": "execute_result"
    },
    {
     "data": {
      "image/png": "[encoded data removed]",
      "text/plain": [
       "<Figure size 432x288 with 1 Axes>"
      ]
     },
     "metadata": {
      "needs_background": "light"
     },
     "output_type": "display_data"
    }
   ],
   "source": [
    "plt.scatter(X_a3[:, -2], X_a3[:,-1])\n",
    "plt.scatter(X_a1[:, -2], X_a1[:,-1])\n",
    "plt.scatter(X_a2[:, -2], X_a2[:,-1])"
   ]
  },
  {
   "cell_type": "code",
   "execution_count": 221,
   "id": "f8a80715-1cf4-49e0-b949-a15f2516876d",
   "metadata": {},
   "outputs": [],
   "source": [
    "# Normalize input data\n",
    "#X = RobustScaler().fit_transform(X)\n",
    "\n",
    "\n",
    "X_a1_100 = RobustScaler().fit_transform(X_a1_100)\n",
    "X_a3_10000 = RobustScaler().fit_transform(X_a3_10000)\n",
    "X_a2_1000 = RobustScaler().fit_transform(X_a2_1000)\n",
    "\n",
    "y_a1_100 = y\n",
    "# Split the dataset into training and testing sets\n",
    "#X_train, X_test, y_train, y_test = train_test_split(X, y, test_size=0.2, random_state=42)\n",
    "X_train_100, X_test_100, y_train_100, y_test = train_test_split(X, y, test_size=0.2, random_state=42)\n",
    "#X_train, X_test, y_train, y_test = train_test_split(X, y, test_size=0.2, random_state=42)\n",
    "#X_train, X_test, y_train, y_test = train_test_split(X, y, test_size=0.2, random_state=42)"
   ]
  },
  {
   "cell_type": "markdown",
   "id": "8b6a7d41-9069-4af6-955a-43fed9582c93",
   "metadata": {},
   "source": [
    "## ELM with bias"
   ]
  },
  {
   "cell_type": "code",
   "execution_count": 193,
   "id": "db3e835b-8c55-4a2e-b9e9-33d9424c017f",
   "metadata": {},
   "outputs": [],
   "source": [
    "# l = 45  Number of hidden neurons\n",
    "def ELM_bias(l, X_train, X_test, y_train, y_test):\n",
    "\n",
    "\n",
    "    # Randomly initialize the hidden layer weights and biases\n",
    "    n = X_train.shape[1]\n",
    "    w = np.random.rand(n, l)\n",
    "    b = np.random.rand(l) #bias\n",
    "\n",
    "    # Calculate the hidden layer activations\n",
    "    H_train = np.tanh(np.dot(X_train, w) + b)\n",
    "    H_test = np.tanh(np.dot(X_test, w) + b)\n",
    "\n",
    "    # Calculate the output layer weights using the Moore-Penrose pseudoinverse\n",
    "    B = np.dot(np.linalg.pinv(H_train), y_train)\n",
    "\n",
    "    # Predict on the training and testing data\n",
    "    y_train_pred = np.dot(H_train, B)\n",
    "    y_test_pred = np.dot(H_test, B)\n",
    "\n",
    "    # Calculate Mean Squared Error\n",
    "    train_mse = mean_squared_error(y_train, y_train_pred)\n",
    "    test_mse = mean_squared_error(y_test, y_test_pred)\n",
    "    \n",
    "\n",
    "    return train_mse, test_mse, B,b, w, y_test_pred, y_train_pred\n",
    "\n"
   ]
  },
  {
   "cell_type": "code",
   "execution_count": 194,
   "id": "cae5f47f-e168-4c9f-8ce7-2cd2f848021c",
   "metadata": {},
   "outputs": [
    {
     "name": "stdout",
     "output_type": "stream",
     "text": [
      "RMSE on training set: 0.39\n",
      "RMSE on test set: 0.42\n",
      "RMSE on training set: 0.68\n",
      "RMSE on test set: 0.78\n",
      "RMSE on training set: 0.67\n",
      "RMSE on test set: 0.73\n",
      "RMSE on training set: 0.67\n",
      "RMSE on test set: 0.64\n",
      "RMSE on training set: 0.65\n",
      "RMSE on test set: 0.66\n"
     ]
    }
   ],
   "source": [
    "#def data_split(X,y):\n",
    "per_sample = [0.2,0.35,0.5,0.65, 0.8]\n",
    "tran_acc=[]\n",
    "test_acc=[]\n",
    "for no_sample in per_sample:\n",
    "    size = int(X.shape[0]*no_sample)\n",
    "    X_train, X_test, y_train, y_test = train_test_split(X[:size], y[:size], test_size=0.2, random_state=42)\n",
    "    rmse_train, rmse_test, B_bias,bias, W_bias, y_test_pred, y_train_pred = ELM_bias(45, X_train, X_test, y_train, y_test)\n",
    "    print(f\"RMSE on training set: {rmse_train:.2f}\")\n",
    "    print(f\"RMSE on test set: {rmse_test:.2f}\")\n",
    "    tran_acc.append(rmse_train)\n",
    "    test_acc.append(rmse_test)"
   ]
  },
  {
   "cell_type": "code",
   "execution_count": 195,
   "id": "d126be19-7620-421c-97ad-9b09eff3a65f",
   "metadata": {},
   "outputs": [
    {
     "data": {
      "text/plain": [
       "[0.3895049267872557,\n",
       " 0.680693451905824,\n",
       " 0.6651314804045814,\n",
       " 0.6721914974911524,\n",
       " 0.6469777054004846]"
      ]
     },
     "execution_count": 195,
     "metadata": {},
     "output_type": "execute_result"
    }
   ],
   "source": [
    "tran_acc"
   ]
  },
  {
   "cell_type": "code",
   "execution_count": 196,
   "id": "5cb6d4c9-ad8c-4e62-9ce2-1de69d589b4f",
   "metadata": {},
   "outputs": [
    {
     "data": {
      "text/plain": [
       "<matplotlib.legend.Legend at 0x7f93eb393580>"
      ]
     },
     "execution_count": 196,
     "metadata": {},
     "output_type": "execute_result"
    },
    {
     "data": {
      "image/png": "[encoded data removed]",
      "text/plain": [
       "<Figure size 432x288 with 1 Axes>"
      ]
     },
     "metadata": {
      "needs_background": "light"
     },
     "output_type": "display_data"
    }
   ],
   "source": [
    "\n",
    "plt.plot(per_sample, tran_acc, label=\"training accuracy\",marker='<')\n",
    "plt.plot(per_sample, test_acc, label=\"test accuracy\",marker='p')\n",
    "plt.ylabel(\"Accuracy\")\n",
    "plt.xlabel(\"Data_sample\")\n",
    "#plt.gca().invert_xaxis()\n",
    "plt.legend()"
   ]
  },
  {
   "cell_type": "code",
   "execution_count": null,
   "id": "be342bc6-bf27-4e44-a630-0992e63943d1",
   "metadata": {},
   "outputs": [],
   "source": []
  },
  {
   "cell_type": "markdown",
   "id": "030962a2-2ab8-440d-8df0-6da61e0d2a38",
   "metadata": {},
   "source": [
    "## ELM with L2 regularzation "
   ]
  },
  {
   "cell_type": "code",
   "execution_count": 197,
   "id": "27cb783c-ed26-46ba-a4f6-dbd44c88e270",
   "metadata": {},
   "outputs": [],
   "source": [
    "# l is Number of hidden neurons\n",
    "    \n",
    "def ELM_L2(l, X_train, X_test, y_train, y_test, alpha = 1e-5):\n",
    "    \n",
    "    # Generate random input-to-hidden weights and bias\n",
    "    n = X_train.shape[1]\n",
    "    w = np.random.randn(n, l)\n",
    "    b = np.random.randn(1, l)\n",
    "\n",
    "    # Compute the hidden layer output \n",
    "    H = np.tanh(np.dot(X_train, w) + b)  # Apply activation function (tanh)\n",
    "\n",
    "    # Calculate the output weights using the Moore-Penrose pseudoinverse\n",
    "    B = np.dot(linalg.pinv(H.T.dot(H) + alpha * np.eye(l)), H.T.dot(y_train)) #output_weights\n",
    "    \n",
    "\n",
    "    # Calculate the predicted output on the training set\n",
    "    pred_train = np.dot(H, B)\n",
    "\n",
    "    # Calculate the predicted output on the testing set\n",
    "    H_test = np.tanh(np.dot(X_test, w) + b)\n",
    "    pred_test = np.dot(H_test, B)\n",
    "\n",
    "    # Calculate the mean squared error on the training and testing sets\n",
    "    mse_train = mean_squared_error(y_train, pred_train)\n",
    "    mse_test = mean_squared_error(y_test, pred_test)\n",
    "\n",
    "    return mse_train, mse_test,w ,B , b,mse_train, mse_test  "
   ]
  },
  {
   "cell_type": "code",
   "execution_count": 198,
   "id": "8790563b-dadf-405b-8c5d-9de1a94ee7d6",
   "metadata": {},
   "outputs": [
    {
     "name": "stdout",
     "output_type": "stream",
     "text": [
      "RMSE on training set: 0.53\n",
      "RMSE on test set: 0.56\n",
      "RMSE on training set: 0.62\n",
      "RMSE on test set: 0.66\n",
      "RMSE on training set: 0.50\n",
      "RMSE on test set: 0.51\n",
      "RMSE on training set: 0.68\n",
      "RMSE on test set: 0.71\n",
      "RMSE on training set: 0.67\n",
      "RMSE on test set: 0.73\n"
     ]
    }
   ],
   "source": [
    "tran_acc_L2=[]\n",
    "test_acc_L2= []\n",
    "L2_reg = [1E-6, 1E-5, 1E-4, 1E-3, 1E-2]\n",
    "for alpha in L2_reg :\n",
    "    rmse_train_L2, rmse_test_L2, W_L2, B_L2,bias_L2, mse_train, mse_test  = ELM_L2(45,X_train, X_test, y_train, y_test ,alpha)\n",
    "    print(f\"RMSE on training set: {rmse_train_L2:.2f}\")\n",
    "    print(f\"RMSE on test set: {rmse_test_L2:.2f}\")\n",
    "    tran_acc_L2.append(rmse_train_L2)\n",
    "    test_acc_L2.append(rmse_test_L2)\n"
   ]
  },
  {
   "cell_type": "code",
   "execution_count": 199,
   "id": "75fba77e-ceef-4b73-9a89-b2e76e858829",
   "metadata": {},
   "outputs": [
    {
     "data": {
      "text/plain": [
       "<matplotlib.legend.Legend at 0x7f93eb7389d0>"
      ]
     },
     "execution_count": 199,
     "metadata": {},
     "output_type": "execute_result"
    },
    {
     "data": {
      "image/png": "[encoded data removed]",
      "text/plain": [
       "<Figure size 432x288 with 1 Axes>"
      ]
     },
     "metadata": {
      "needs_background": "light"
     },
     "output_type": "display_data"
    }
   ],
   "source": [
    "\n",
    "plt.plot(L2_reg, tran_acc_L2, label=\"training accuracy\",marker='<')\n",
    "plt.plot(L2_reg, test_acc_L2, label=\"test accuracy\",marker='p')\n",
    "plt.ylabel(\"Accuracy\")\n",
    "plt.xlabel(\"Alpha\")\n",
    "plt.xscale(\"log\")\n",
    "#plt.gca().invert_xaxis()\n",
    "plt.legend()"
   ]
  },
  {
   "cell_type": "code",
   "execution_count": 200,
   "id": "b76551bb-b975-4d00-bc5f-f17ca7d003ae",
   "metadata": {},
   "outputs": [
    {
     "data": {
      "text/plain": [
       "{(10, 0.01): [0.5, 0.5, 0.5],\n",
       " (10, 0.001): [0.5, 0.5, 0.5],\n",
       " (10, 0.0001): [0.5, 0.5, 0.5],\n",
       " (20, 0.01): [0.5, 0.5, 0.5],\n",
       " (20, 0.001): [0.5, 0.5, 0.5],\n",
       " (20, 0.0001): [0.5, 0.5, 0.5],\n",
       " (30, 0.01): [0.5, 0.5, 0.5],\n",
       " (30, 0.001): [0.5, 0.5, 0.5],\n",
       " (30, 0.0001): [0.5, 0.5, 0.5],\n",
       " (45, 0.01): [0.5, 0.5, 0.5],\n",
       " (45, 0.001): [0.5, 0.5, 0.5],\n",
       " (45, 0.0001): [0.5, 0.5, 0.5],\n",
       " (70, 0.01): [0.5, 0.5, 0.5],\n",
       " (70, 0.001): [0.5, 0.5, 0.5],\n",
       " (70, 0.0001): [0.5, 0.5, 0.5],\n",
       " (100, 0.01): [0.5, 0.5, 0.5],\n",
       " (100, 0.001): [0.5, 0.5, 0.5],\n",
       " (100, 0.0001): [0.5, 0.5, 0.5]}"
      ]
     },
     "execution_count": 200,
     "metadata": {},
     "output_type": "execute_result"
    }
   ],
   "source": [
    "accuracy = {}\n",
    "\n",
    "for l in (10, 20, 30, 45, 70, 100):\n",
    "    for L2 in (1e-2, 1e-3, 1e-4):\n",
    "        accuracy[(l, L2)] = []\n",
    "        for run in range(3):\n",
    "            # train ELM and compute actual accuracy instead of 0.50\n",
    "            accuracy[(l, L2)].append(0.50)\n",
    "            \n",
    "accuracy"
   ]
  },
  {
   "cell_type": "code",
   "execution_count": 201,
   "id": "69b42efb-7191-4222-8cf7-cbb078284ab1",
   "metadata": {},
   "outputs": [
    {
     "name": "stdout",
     "output_type": "stream",
     "text": [
      "(10, 0.01) 0.5\n",
      "(10, 0.001) 0.5\n",
      "(10, 0.0001) 0.5\n",
      "(20, 0.01) 0.5\n",
      "(20, 0.001) 0.5\n",
      "(20, 0.0001) 0.5\n",
      "(30, 0.01) 0.5\n",
      "(30, 0.001) 0.5\n",
      "(30, 0.0001) 0.5\n",
      "(45, 0.01) 0.5\n",
      "(45, 0.001) 0.5\n",
      "(45, 0.0001) 0.5\n",
      "(70, 0.01) 0.5\n",
      "(70, 0.001) 0.5\n",
      "(70, 0.0001) 0.5\n",
      "(100, 0.01) 0.5\n",
      "(100, 0.001) 0.5\n",
      "(100, 0.0001) 0.5\n"
     ]
    }
   ],
   "source": [
    "for k,v in accuracy.items():\n",
    "    print(k, np.mean(v))"
   ]
  },
  {
   "cell_type": "markdown",
   "id": "607c520e-d1dc-460b-8eb6-3f4ab915b261",
   "metadata": {},
   "source": [
    "## Check that the solution is the same for Basic ELM  and  ELM with bias component"
   ]
  },
  {
   "cell_type": "markdown",
   "id": "3f24119c-e294-4d7f-ad37-9198185659d2",
   "metadata": {},
   "source": [
    "ELM_bias"
   ]
  },
  {
   "cell_type": "code",
   "execution_count": 12,
   "id": "ce063d53-5231-45bf-a50b-5b20a36c31b4",
   "metadata": {},
   "outputs": [],
   "source": [
    "np.savez(\"Housing_bias.npz\", B_bias=B_bias, W_bias=W_bias, bias=bias)\n"
   ]
  },
  {
   "cell_type": "code",
   "execution_count": 13,
   "id": "b90707f7-58b4-4e1b-acd2-110707f40c59",
   "metadata": {},
   "outputs": [],
   "source": [
    "Housing_bias = np.load(\"Housing_bias.npz\")"
   ]
  },
  {
   "cell_type": "code",
   "execution_count": 14,
   "id": "de725eba-bbd2-4bcb-a2a2-192e6dc9ce3c",
   "metadata": {},
   "outputs": [],
   "source": [
    "H2_bias = np.tanh(np.dot(X_train, Housing_bias[\"W_bias\"]) + Housing_bias[\"bias\"])"
   ]
  },
  {
   "cell_type": "code",
   "execution_count": 15,
   "id": "116e682c-3d56-47fd-aae2-145b90327024",
   "metadata": {},
   "outputs": [],
   "source": [
    "B2_bias = np.dot(np.linalg.pinv(H2_bias), y_train)"
   ]
  },
  {
   "cell_type": "code",
   "execution_count": 16,
   "id": "339b10d0-efb2-4af9-ba53-b7f249509758",
   "metadata": {},
   "outputs": [
    {
     "data": {
      "text/plain": [
       "True"
      ]
     },
     "execution_count": 16,
     "metadata": {},
     "output_type": "execute_result"
    }
   ],
   "source": [
    "np.allclose(B2_bias,Housing_bias[\"B_bias\"] )"
   ]
  },
  {
   "cell_type": "code",
   "execution_count": null,
   "id": "b5fd6c04-c008-489c-8fa8-89461472f774",
   "metadata": {},
   "outputs": [],
   "source": []
  }
 ],
 "metadata": {
  "kernelspec": {
   "display_name": "Python 3 (ipykernel)",
   "language": "python",
   "name": "python3"
  },
  "language_info": {
   "codemirror_mode": {
    "name": "ipython",
    "version": 3
   },
   "file_extension": ".py",
   "mimetype": "text/x-python",
   "name": "python",
   "nbconvert_exporter": "python",
   "pygments_lexer": "ipython3",
   "version": "3.9.12"
  }
 },
 "nbformat": 4,
 "nbformat_minor": 5
}
