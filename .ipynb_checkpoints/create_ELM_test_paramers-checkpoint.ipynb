{
 "cells": [
  {
   "cell_type": "markdown",
   "id": "db734411-c4b8-4bd8-80ac-454e2f7279e0",
   "metadata": {},
   "source": [
    "Part (1):\n",
    "Idea: we have test data from 3 different “locations” because we split data by latitude and longitude\n",
    "What to do:\n",
    "\n",
    "- make training and test sets, save them to files, always load from files\n",
    "- code should always load data from files. If you make new data files, code must load them automatically without   you doing anything to the code\n",
    "- training data samples: take 100 samples from 1, 1000 samples from 2, 10000 samples from 3.\n",
    "- everything else is test data\n",
    "- save data from different “clients” into separate files, load from separate files, combine before training or testing ELM\n",
    "\n",
    "- Build an ELM prediction model with small number of neurons (5-100), find best L2 parameter, and record its performance.\n",
    "-  Save ELM weights matrix W in a file, so it can be re-loaded later, and we can train exactly the same ELM later. Also save the value of L2.\n"
   ]
  },
  {
   "cell_type": "code",
   "execution_count": 151,
   "id": "9afab08e-19bb-4b22-b57a-71947452be4f",
   "metadata": {},
   "outputs": [],
   "source": [
    "import numpy as np\n",
    "import pandas  as pd\n",
    "from sklearn.datasets import fetch_california_housing\n",
    "from sklearn.model_selection import train_test_split\n",
    "from sklearn.preprocessing import StandardScaler\n",
    "from sklearn.preprocessing import RobustScaler\n",
    "from sklearn.metrics import mean_squared_error,r2_score\n",
    "import matplotlib.pyplot as plt\n",
    "from scipy import linalg\n",
    "import os\n",
    "from math import sqrt\n",
    "\n",
    "# Load the California Housing dataset\n",
    "data = fetch_california_housing()\n",
    "X, y = data.data, data.target"
   ]
  },
  {
   "cell_type": "code",
   "execution_count": 152,
   "id": "9db93813-2295-4949-8ff0-5d6ea74203fc",
   "metadata": {},
   "outputs": [
    {
     "data": {
      "text/plain": [
       "((20640, 8), (20640,))"
      ]
     },
     "execution_count": 152,
     "metadata": {},
     "output_type": "execute_result"
    }
   ],
   "source": [
    "X.shape, y.shape"
   ]
  },
  {
   "cell_type": "code",
   "execution_count": 153,
   "id": "721c4166-eab6-4825-9f17-b827e57fca6f",
   "metadata": {},
   "outputs": [],
   "source": [
    "X_a1 = X[X[:,-2] > 40, :]\n",
    "X_a2 = X[X[:,-1] > -118, :]\n",
    "X_a3 = X[np.where((X[:,-2] <= 40) & (X[:,-1] <= -118))[0], :]"
   ]
  },
  {
   "cell_type": "code",
   "execution_count": 154,
   "id": "72c5d0b2-510b-45ad-932a-4d5e9fb466cd",
   "metadata": {},
   "outputs": [
    {
     "data": {
      "text/plain": [
       "((412, 8), (5080, 8), (15148, 8))"
      ]
     },
     "execution_count": 154,
     "metadata": {},
     "output_type": "execute_result"
    }
   ],
   "source": [
    "X_a1.shape, X_a2.shape, X_a3.shape"
   ]
  },
  {
   "cell_type": "code",
   "execution_count": 155,
   "id": "fb977d0e-fcdc-4dba-96b0-bfb044bfdbfb",
   "metadata": {},
   "outputs": [
    {
     "data": {
      "text/plain": [
       "<matplotlib.collections.PathCollection at 0x7f7f5d8dd9d0>"
      ]
     },
     "execution_count": 155,
     "metadata": {},
     "output_type": "execute_result"
    },
    {
     "data": {
      "image/png": "[encoded data removed]",
      "text/plain": [
       "<Figure size 432x288 with 1 Axes>"
      ]
     },
     "metadata": {
      "needs_background": "light"
     },
     "output_type": "display_data"
    }
   ],
   "source": [
    "plt.scatter(X_a3[:, -2], X_a3[:,-1])\n",
    "plt.scatter(X_a1[:, -2], X_a1[:,-1])\n",
    "plt.scatter(X_a2[:, -2], X_a2[:,-1])"
   ]
  },
  {
   "cell_type": "code",
   "execution_count": 156,
   "id": "271fb39b-99fc-4d02-b560-7ce0372b03a7",
   "metadata": {},
   "outputs": [],
   "source": [
    "#merge data and target \n",
    "y=y[:,None]\n",
    "con = np.concatenate((X,y), axis=1)\n",
    "con_pd= pd.DataFrame(con)\n",
    "con_arr=con_pd.to_numpy()"
   ]
  },
  {
   "cell_type": "code",
   "execution_count": 157,
   "id": "dcb365bf-5308-49e3-8309-251d1956ff0e",
   "metadata": {},
   "outputs": [
    {
     "data": {
      "text/html": [
       "<div>\n",
       "<style scoped>\n",
       "    .dataframe tbody tr th:only-of-type {\n",
       "        vertical-align: middle;\n",
       "    }\n",
       "\n",
       "    .dataframe tbody tr th {\n",
       "        vertical-align: top;\n",
       "    }\n",
       "\n",
       "    .dataframe thead th {\n",
       "        text-align: right;\n",
       "    }\n",
       "</style>\n",
       "<table border=\"1\" class=\"dataframe\">\n",
       "  <thead>\n",
       "    <tr style=\"text-align: right;\">\n",
       "      <th></th>\n",
       "      <th>0</th>\n",
       "      <th>1</th>\n",
       "      <th>2</th>\n",
       "      <th>3</th>\n",
       "      <th>4</th>\n",
       "      <th>5</th>\n",
       "      <th>6</th>\n",
       "      <th>7</th>\n",
       "      <th>8</th>\n",
       "    </tr>\n",
       "  </thead>\n",
       "  <tbody>\n",
       "    <tr>\n",
       "      <th>0</th>\n",
       "      <td>8.3252</td>\n",
       "      <td>41.0</td>\n",
       "      <td>6.984127</td>\n",
       "      <td>1.02381</td>\n",
       "      <td>322.0</td>\n",
       "      <td>2.555556</td>\n",
       "      <td>37.88</td>\n",
       "      <td>-122.23</td>\n",
       "      <td>4.526</td>\n",
       "    </tr>\n",
       "    <tr>\n",
       "      <th>1</th>\n",
       "      <td>8.3014</td>\n",
       "      <td>21.0</td>\n",
       "      <td>6.238137</td>\n",
       "      <td>0.97188</td>\n",
       "      <td>2401.0</td>\n",
       "      <td>2.109842</td>\n",
       "      <td>37.86</td>\n",
       "      <td>-122.22</td>\n",
       "      <td>3.585</td>\n",
       "    </tr>\n",
       "  </tbody>\n",
       "</table>\n",
       "</div>"
      ],
      "text/plain": [
       "        0     1         2        3       4         5      6       7      8\n",
       "0  8.3252  41.0  6.984127  1.02381   322.0  2.555556  37.88 -122.23  4.526\n",
       "1  8.3014  21.0  6.238137  0.97188  2401.0  2.109842  37.86 -122.22  3.585"
      ]
     },
     "execution_count": 157,
     "metadata": {},
     "output_type": "execute_result"
    }
   ],
   "source": [
    "con_pd[:2]"
   ]
  },
  {
   "cell_type": "code",
   "execution_count": 158,
   "id": "ee348717-d1bc-4e14-9fd3-a99d77927954",
   "metadata": {},
   "outputs": [
    {
     "data": {
      "text/plain": [
       "(20640, 9)"
      ]
     },
     "execution_count": 158,
     "metadata": {},
     "output_type": "execute_result"
    }
   ],
   "source": [
    "con_arr.shape"
   ]
  },
  {
   "cell_type": "code",
   "execution_count": 159,
   "id": "fa3d0452-18b5-410e-af41-943ac4891a5b",
   "metadata": {},
   "outputs": [],
   "source": [
    "#Split into 3 sets of data using Latitude and Longitude\n",
    "con_arr_a1_con = con_arr[con_arr[:,-3] > 40, :]\n",
    "con_arr_a2_con = con_arr[con_arr[:,-2] > -118, :]\n",
    "con_arr_a3_con = con_arr[np.where((con_arr[:,-3] <= 40) & (con_arr[:,-2] <= -118))[0], :]"
   ]
  },
  {
   "cell_type": "code",
   "execution_count": 160,
   "id": "3a0a9b8f-8abf-4041-ad18-f03b5db62341",
   "metadata": {},
   "outputs": [],
   "source": [
    "con_arr_a1_con_train, con_arr_a1_con_test = con_arr_a1_con[:100], con_arr_a1_con[100:]\n",
    "con_arr_a2_con_train, con_arr_a2_con_test = con_arr_a2_con[:1000], con_arr_a2_con[1000:]\n",
    "con_arr_a3_con_train, con_arr_a3_con_test = con_arr_a3_con[:10000], con_arr_a3_con[10000:]"
   ]
  },
  {
   "cell_type": "code",
   "execution_count": 161,
   "id": "72d35b11-80c3-4cfd-be2c-3a3854fd78b3",
   "metadata": {},
   "outputs": [
    {
     "data": {
      "text/plain": [
       "((100, 9), (312, 9))"
      ]
     },
     "execution_count": 161,
     "metadata": {},
     "output_type": "execute_result"
    }
   ],
   "source": [
    "con_arr_a1_con_train.shape, con_arr_a1_con_test.shape"
   ]
  },
  {
   "cell_type": "code",
   "execution_count": 162,
   "id": "b13a68b4-4a23-4468-96da-436bd074d240",
   "metadata": {},
   "outputs": [],
   "source": [
    "#target for each group dataset\n",
    "y_a1= con_arr_a1_con[:,-1]\n",
    "y_a2= con_arr_a2_con[:,-1]\n",
    "y_a3= con_arr_a3_con[:,-1]\n"
   ]
  },
  {
   "cell_type": "code",
   "execution_count": 163,
   "id": "44ab7387-dcae-4bf4-b028-111bd8c316a8",
   "metadata": {},
   "outputs": [],
   "source": [
    "# Normalize input data the group dataset\n",
    "scaler = RobustScaler()\n",
    "scaler.fit(X_a1)\n",
    "\n",
    "X_a1_sc = scaler.transform(X_a1)\n",
    "X_a2_sc = scaler.transform(X_a2)\n",
    "X_a3_sc = scaler.transform(X_a3)\n"
   ]
  },
  {
   "cell_type": "code",
   "execution_count": 164,
   "id": "3fe5fbd4-5a7b-4faf-9706-8eaed1412eb0",
   "metadata": {},
   "outputs": [
    {
     "name": "stdout",
     "output_type": "stream",
     "text": [
      "exist\n",
      "exist\n",
      "exist\n"
     ]
    }
   ],
   "source": [
    "if not os.path.exists(\"client1.npz\" ):\n",
    "    np.savez(\"client1.npz\", X_a1_sc= X_a1_sc, y_a1=y_a1)\n",
    "else:\n",
    "    print(\"exist\")\n",
    "if not os.path.exists(\"client2.npz\" ):\n",
    "    np.savez(\"client2.npz\", X_a2_sc= X_a2_sc, y_a2=y_a2)\n",
    "else:\n",
    "    print(\"exist\")\n",
    "if not os.path.exists(\"client3.npz\" ):\n",
    "    np.savez(\"client3.npz\", X_a3_sc= X_a3_sc, y_a3=y_a3)\n",
    "else:\n",
    "    print(\"exist\")"
   ]
  },
  {
   "cell_type": "markdown",
   "id": "bfae6dc7-30c7-4dfc-a066-3f1238bed840",
   "metadata": {},
   "source": [
    "Split train and test set for each location,100,1000,10000"
   ]
  },
  {
   "cell_type": "code",
   "execution_count": 165,
   "id": "20ce7329-291a-44c6-80aa-e44063f35ce5",
   "metadata": {},
   "outputs": [
    {
     "data": {
      "text/plain": [
       "((100, 8), (312,), (1000, 8), (4080,), (10000, 8), (5148, 8))"
      ]
     },
     "execution_count": 165,
     "metadata": {},
     "output_type": "execute_result"
    }
   ],
   "source": [
    "X_a1_t,X_a1_s,y_a1_t,y_a1_s  = X_a1_sc[:100],X_a1_sc[100:],y_a1[:100],y_a1[100:]\n",
    "X_a2_t,X_a2_s,y_a2_t,y_a2_s = X_a2_sc[:1000],X_a2_sc[1000:],y_a2[:1000],y_a2[1000:]\n",
    "X_a3_t, X_a3_s, y_a3_t, y_a3_s = X_a3_sc[:10000], X_a3_sc[10000:],y_a3[:10000], y_a3[10000:]\n",
    "                                                  \n",
    "X_a1_t.shape, y_a1_s.shape,X_a2_t.shape,y_a2_s.shape,X_a3_t.shape, X_a3_s.shape"
   ]
  },
  {
   "cell_type": "markdown",
   "id": "8b6a7d41-9069-4af6-955a-43fed9582c93",
   "metadata": {
    "tags": []
   },
   "source": [
    "## ELM with bias"
   ]
  },
  {
   "cell_type": "code",
   "execution_count": 166,
   "id": "db3e835b-8c55-4a2e-b9e9-33d9424c017f",
   "metadata": {},
   "outputs": [],
   "source": [
    "# l = 45  Number of hidden neurons\n",
    "def ELM_bias(l, X_train, X_test, y_train, y_test):\n",
    "\n",
    "\n",
    "    # Randomly initialize the hidden layer weights and biases\n",
    "    n = X_train.shape[1]\n",
    "    w = np.random.rand(n, l)\n",
    "    b = np.random.rand(l) #bias\n",
    "\n",
    "    # Calculate the hidden layer activations\n",
    "    H_train = np.tanh(np.dot(X_train, w) + b)\n",
    "    H_test = np.tanh(np.dot(X_test, w) + b)\n",
    "\n",
    "    # Calculate the output layer weights using the Moore-Penrose pseudoinverse\n",
    "    B = np.dot(np.linalg.pinv(H_train), y_train)\n",
    "\n",
    "    # Predict on the training and testing data\n",
    "    y_train_pred = np.dot(H_train, B)\n",
    "    y_test_pred = np.dot(H_test, B)\n",
    "\n",
    "    # Calculate Mean Squared Error\n",
    "    r2 = r2_score(y_test, y_test_pred)\n",
    "    rmse_train = sqrt(mean_squared_error(y_train, y_train_pred))\n",
    "    rmse_test = sqrt(mean_squared_error(y_test, y_test_pred))\n",
    "    \n",
    "\n",
    "    return  r2,rmse_test,w, B,b\n",
    "\n"
   ]
  },
  {
   "cell_type": "code",
   "execution_count": null,
   "id": "be342bc6-bf27-4e44-a630-0992e63943d1",
   "metadata": {},
   "outputs": [],
   "source": []
  },
  {
   "cell_type": "markdown",
   "id": "030962a2-2ab8-440d-8df0-6da61e0d2a38",
   "metadata": {},
   "source": [
    "## ELM with L2 regularzation "
   ]
  },
  {
   "cell_type": "code",
   "execution_count": 167,
   "id": "27cb783c-ed26-46ba-a4f6-dbd44c88e270",
   "metadata": {},
   "outputs": [],
   "source": [
    "# l is Number of hidden neurons\n",
    "    \n",
    "def ELM_L2(l, X_train, X_test, y_train, y_test, alpha = 1e-5):\n",
    "    \n",
    "    # Generate random input-to-hidden weights and bias\n",
    "    n = X_train.shape[1]\n",
    "    w = np.random.randn(n, l)\n",
    "    b = np.random.randn(1, l)\n",
    "    \n",
    "    \n",
    "    # Compute the hidden layer output \n",
    "    H = np.tanh(np.dot(X_train, w) + b)  # Apply activation function (tanh)\n",
    "    \n",
    "    # Calculate the output weights using the Moore-Penrose pseudoinverse\n",
    "    B = np.dot(linalg.pinv(H.T.dot(H) + alpha *np. eye(l)), H.T.dot(y_train)) #output_weights\n",
    "    \n",
    "\n",
    "    # Calculate the predicted output on the training set\n",
    "    pred_train = np.dot(H, B)\n",
    "\n",
    "    # Calculate the predicted output on the testing set\n",
    "    H_test = np.tanh(np.dot(X_test, w) + b)\n",
    "    pred_test = np.dot(H_test, B)\n",
    "\n",
    "    # Calculate the mean squared error on the training and testing sets\n",
    "    rmse_train = sqrt(mean_squared_error(y_train, pred_train))\n",
    "    rmse_test = sqrt(mean_squared_error(y_test, pred_test))\n",
    "    r2 = r2_score(y_test, pred_test)\n",
    "    \n",
    "\n",
    "    return r2, rmse_test ,w ,B , b  \n"
   ]
  },
  {
   "cell_type": "code",
   "execution_count": null,
   "id": "545d426e-5f64-463e-8f63-2eb410d8006f",
   "metadata": {},
   "outputs": [],
   "source": []
  },
  {
   "cell_type": "markdown",
   "id": "acaef57e-cfb0-45f8-bfc0-567a15b9a55e",
   "metadata": {},
   "source": [
    "For client1 100 locations"
   ]
  },
  {
   "cell_type": "code",
   "execution_count": 168,
   "id": "c2ac093b-3552-4be7-b2df-ec2fc6337d66",
   "metadata": {},
   "outputs": [],
   "source": [
    "def par_dis_bias(Xt,Xs,yt,ys):\n",
    "    \n",
    "    er_test_dis = {}\n",
    "    r2_dis= {}\n",
    "    b_dis= {}\n",
    "    w_dis= {}\n",
    "    B_dis={}\n",
    "\n",
    "    # loop train ELM for l neuron and L2 samplw sizes\n",
    "    for l in (10, 20, 30, 45, 70, 100):#neuron\n",
    "    #for alpha in (1e-2, 1e-3, 1e-4):#L2 regularization\n",
    "            \n",
    "        er_test_dis[l] = {}\n",
    "        r2_dis[l] = {}\n",
    "        b_dis[l]= {}\n",
    "        w_dis[l]= {}\n",
    "        B_dis[l]={}\n",
    "        for run in range(15):\n",
    "            # train ELM and compute actual accuracy instead of 0.50\n",
    "\n",
    "            r2,rmse,w, B, b = ELM_bias(l, Xt, Xs,yt, ys)\n",
    "\n",
    "            er_test_dis[l]=rmse\n",
    "            r2_dis[l] =r2\n",
    "            b_dis[l]= b\n",
    "            w_dis[l]= w\n",
    "            B_dis[l]=B\n",
    "    return  er_test_dis, r2_dis, b_dis, w_dis,B_dis\n"
   ]
  },
  {
   "cell_type": "code",
   "execution_count": 169,
   "id": "9bc3eb06-f7dd-428b-b8f1-922e4e75d74f",
   "metadata": {},
   "outputs": [],
   "source": [
    "def par_dis_L2(Xt, Xs, yt, ys):\n",
    "    er_test_dis = {}\n",
    "    r2_dis= {}\n",
    "    b_dis= {}\n",
    "    w_dis= {}\n",
    "    B_dis={}\n",
    "\n",
    "    # loop train ELM for l neuron and L2 samplw sizes\n",
    "    for l in (10, 20, 30, 45, 70, 100):#neuron\n",
    "        for alpha in (1e-2, 1e-3, 1e-4):#L2 regularization\n",
    "            er_test_dis[(l, alpha)] = {}\n",
    "            r2_dis[(l, alpha)] = {}\n",
    "            b_dis[(l,alpha)]= {}\n",
    "            w_dis[(l,alpha)]= {}\n",
    "            B_dis[(l,alpha)]={}\n",
    "            \n",
    "            for run in range(15):\n",
    "                # train ELM and compute actual accuracy instead of 0.50\n",
    "                r2, rmse, w, B, b =ELM_L2(l, Xt, Xs, yt, ys, alpha)\n",
    "                \n",
    "                er_test_dis[(l, alpha)]=rmse\n",
    "                r2_dis[(l, alpha)] =r2\n",
    "                b_dis[(l,alpha)]= b\n",
    "                w_dis[(l,alpha)]= w\n",
    "                B_dis[(l,alpha)]=B\n",
    "\n",
    "    return er_test_dis, r2_dis, b_dis, w_dis, B_dis"
   ]
  },
  {
   "cell_type": "code",
   "execution_count": null,
   "id": "0d49a75e-52fa-4da4-8999-3821ec34ee4b",
   "metadata": {},
   "outputs": [],
   "source": []
  },
  {
   "cell_type": "markdown",
   "id": "2f861e59-8aec-49ac-b03f-4465b57347c1",
   "metadata": {},
   "source": [
    "For client1 (100 samples), ELM with L2 regularization "
   ]
  },
  {
   "cell_type": "code",
   "execution_count": null,
   "id": "d0852a2b-1d40-41c3-929d-b048309e8dbb",
   "metadata": {},
   "outputs": [],
   "source": []
  },
  {
   "cell_type": "code",
   "execution_count": 170,
   "id": "292733a0-77e2-4392-9067-b925da2161ae",
   "metadata": {},
   "outputs": [],
   "source": [
    "c1_erTest_L2, c1_r2_L2, c1_b_L2, c1_w_L2, c1_B_L2 = par_dis_L2(X_a1_t, X_a1_s, y_a1_t, y_a1_s)\n",
    "c1_erTest_bias, c1_r2_bias, c1_b_bias, c1_w_bias, c1_B_bias = par_dis_bias(X_a1_t, X_a1_s, y_a1_t, y_a1_s)\n"
   ]
  },
  {
   "cell_type": "code",
   "execution_count": 171,
   "id": "4cde80c5-b497-47ca-a5c4-80ca8f56be2d",
   "metadata": {
    "tags": []
   },
   "outputs": [
    {
     "data": {
      "text/plain": [
       "((20, 0.001), 0.44498001407255616)"
      ]
     },
     "execution_count": 171,
     "metadata": {},
     "output_type": "execute_result"
    }
   ],
   "source": [
    "c1_er_key_L2 = min(c1_erTest_L2, key=c1_erTest_L2.get)\n",
    "c1_er_key_L2,c1_erTest_L2[c1_er_key_L2]"
   ]
  },
  {
   "cell_type": "code",
   "execution_count": 173,
   "id": "3e76872c-fe2a-4549-9d07-e775da2285ba",
   "metadata": {},
   "outputs": [
    {
     "data": {
      "text/plain": [
       "(10, 0.5095721210701969)"
      ]
     },
     "execution_count": 173,
     "metadata": {},
     "output_type": "execute_result"
    }
   ],
   "source": [
    "c1_er_key_bias = min(c1_erTest_bias, key=c1_erTest_bias.get)\n",
    "c1_er_key_bias, c1_erTest_bias[c1_er_key_bias]"
   ]
  },
  {
   "cell_type": "markdown",
   "id": "6c7d419d-48c5-437c-ab8e-f613d7fd9d1a",
   "metadata": {},
   "source": [
    "Note: a negative 𝑅2 is that the chosen model (with its constraints) fits the data really poorly."
   ]
  },
  {
   "cell_type": "code",
   "execution_count": 175,
   "id": "a6e60b19-946e-4588-a292-fe0335fefc7f",
   "metadata": {},
   "outputs": [
    {
     "data": {
      "text/plain": [
       "((20, 0.001), -1.7557852197554453)"
      ]
     },
     "execution_count": 175,
     "metadata": {},
     "output_type": "execute_result"
    }
   ],
   "source": [
    "c1_r2_key_L2  = max(c1_r2_L2, key=c1_r2_L2.get)\n",
    "c1_r2_key_L2, c1_r2_L2[c1_r2_key_L2]"
   ]
  },
  {
   "cell_type": "code",
   "execution_count": 177,
   "id": "f9295094-a5af-4f85-9539-3534eb6c9770",
   "metadata": {},
   "outputs": [
    {
     "data": {
      "text/plain": [
       "(10, -2.613896202781241)"
      ]
     },
     "execution_count": 177,
     "metadata": {},
     "output_type": "execute_result"
    }
   ],
   "source": [
    "c1_r2_key_bias  = max(c1_r2_bias, key=c1_r2_bias.get)\n",
    "c1_r2_key_bias, c1_r2_bias[c1_r2_key_bias]"
   ]
  },
  {
   "cell_type": "code",
   "execution_count": 178,
   "id": "3c57ad9f-9472-4cfb-99d5-f26186204184",
   "metadata": {},
   "outputs": [
    {
     "data": {
      "text/plain": [
       "['X_a2_sc', 'y_a2']"
      ]
     },
     "execution_count": 178,
     "metadata": {},
     "output_type": "execute_result"
    }
   ],
   "source": [
    "client1= np.load(\"client1.npz\")\n",
    "client2= np.load(\"client2.npz\")\n",
    "client3= np.load(\"client3.npz\")\n",
    "client2.files"
   ]
  },
  {
   "cell_type": "code",
   "execution_count": 179,
   "id": "ce9d8fc2-e95e-4b1e-838a-f8fb1cd2bea4",
   "metadata": {},
   "outputs": [],
   "source": [
    "client1_Xt,client1_Xs,client1_yt,client1_ys  = client1[\"X_a1_sc\"][:100],client1[\"X_a1_sc\"][100:],client1[\"y_a1\"][:100],client1[\"y_a1\"][100:]\n",
    "client2_Xt,client2_Xs,client2_yt,client2_ys  = client2[\"X_a2_sc\"][:1000],client2[\"X_a2_sc\"][1000:],client2[\"y_a2\"][:1000],client2[\"y_a2\"][1000:]\n",
    "client3_Xt,client3_Xs,client3_yt,client3_ys  = client3[\"X_a3_sc\"][:10000],client3[\"X_a3_sc\"][10000:],client3[\"y_a3\"][:10000],client3[\"y_a3\"][10000:]\n"
   ]
  },
  {
   "cell_type": "code",
   "execution_count": 180,
   "id": "76ac5a4c-91a4-473b-aee5-cf7716ffcea9",
   "metadata": {},
   "outputs": [
    {
     "data": {
      "text/plain": [
       "((100, 8), (312, 8))"
      ]
     },
     "execution_count": 180,
     "metadata": {},
     "output_type": "execute_result"
    }
   ],
   "source": [
    "client1_Xt.shape,client1_Xs.shape"
   ]
  },
  {
   "cell_type": "code",
   "execution_count": 182,
   "id": "de0487a8-0a25-4338-adf5-44087422361e",
   "metadata": {},
   "outputs": [],
   "source": [
    "c1_b_L2s=c1_b_L2[c1_r2_key_L2]\n",
    "c1_w_L2s=c1_w_L2[c1_r2_key_L2]\n",
    "c1_B_L2s=c1_B_L2[c1_r2_key_L2]"
   ]
  },
  {
   "cell_type": "code",
   "execution_count": 183,
   "id": "770066b2-9f8d-4ba5-8c1e-cdc6aba8c17d",
   "metadata": {},
   "outputs": [
    {
     "data": {
      "text/plain": [
       "array([0.4355311 , 0.66823968, 0.02205623, 0.1620068 , 0.12316258,\n",
       "       0.1861407 , 0.67901406, 0.11969847, 0.68621507, 0.80184372])"
      ]
     },
     "execution_count": 183,
     "metadata": {},
     "output_type": "execute_result"
    }
   ],
   "source": [
    "c1_b_bias[c1_r2_key_bias]"
   ]
  },
  {
   "cell_type": "code",
   "execution_count": 184,
   "id": "329253da-d645-443a-bcab-17933e8ad05e",
   "metadata": {},
   "outputs": [],
   "source": [
    "c1_b_bias_s=c1_b_bias[c1_r2_key_bias]\n",
    "c1_w_bias_s=c1_w_bias[c1_r2_key_bias]\n",
    "c1_B_bias_s=c1_B_bias[c1_r2_key_bias]"
   ]
  },
  {
   "cell_type": "code",
   "execution_count": 185,
   "id": "cc59bd5c-220a-47b4-baec-4fc5f77133f4",
   "metadata": {},
   "outputs": [
    {
     "data": {
      "text/plain": [
       "10"
      ]
     },
     "execution_count": 185,
     "metadata": {},
     "output_type": "execute_result"
    }
   ],
   "source": [
    "c1_r2_key_bias"
   ]
  },
  {
   "cell_type": "code",
   "execution_count": 186,
   "id": "d877835d-e542-4452-81f9-8e503c059770",
   "metadata": {},
   "outputs": [],
   "source": [
    "#save the input weight, output weight and the bias to a file \n",
    "if not os.path.exists(\"client1_par_L2.npz\" ):\n",
    "    np.savez(\"client1_par_L2.npz\", w=c1_w_L2s, B=c1_B_L2s, b=c1_b_L2s, n_nuerons=c1_r2_key_L2[0], reg_cof= c1_r2_key_L2[1])\n",
    "else:\n",
    "    print(\"file exist!\")\n",
    "\n",
    "if not os.path.exists(\"client1_par_bias.npz\" ):\n",
    "    np.savez(\"client1_par_bias.npz\", w=c1_w_bias_s, B=c1_B_bias_s, b=c1_b_bias_s, n_nuerons= c1_r2_key_bias)\n",
    "else:\n",
    "    print(\"file exist!\")"
   ]
  },
  {
   "cell_type": "markdown",
   "id": "ede83794-f540-45cc-b13f-587de8785134",
   "metadata": {},
   "source": [
    "Load  client1 Parameters from file \"client1_par.npz\""
   ]
  },
  {
   "cell_type": "code",
   "execution_count": 187,
   "id": "ab65eca5-5295-4b52-8b8b-a0b8685c1a65",
   "metadata": {
    "tags": []
   },
   "outputs": [],
   "source": [
    "c1_par_L2= np.load(\"client1_par_L2.npz\") #neurons and alpha\n",
    "c1_par_bias= np.load(\"client1_par_bias.npz\") #neurons and alpha"
   ]
  },
  {
   "cell_type": "code",
   "execution_count": 225,
   "id": "ec2764d3-77e4-48ae-9b9b-fd73a70396c9",
   "metadata": {},
   "outputs": [
    {
     "data": {
      "text/plain": [
       "(20, 0.001, 10.0)"
      ]
     },
     "execution_count": 225,
     "metadata": {},
     "output_type": "execute_result"
    }
   ],
   "source": [
    "c1_nuerons_L2=int(c1_par_L2[\"n_nuerons\"])\n",
    "c1_regCoff=float(c1_par_L2[\"reg_cof\"])\n",
    "\n",
    "c1_regCoff_bias=float(c1_par_bias[\"n_nuerons\"])\n",
    "c1_nuerons_L2,c1_regCoff,c1_regCoff_bias"
   ]
  },
  {
   "cell_type": "markdown",
   "id": "a511e9bb-4aec-4053-af0a-da47a8e2719e",
   "metadata": {},
   "source": [
    "Check the solution is the same? for client1 L2 regularaization"
   ]
  },
  {
   "cell_type": "code",
   "execution_count": 193,
   "id": "24f68dec-22d4-44e0-b36b-1354297f62e6",
   "metadata": {},
   "outputs": [],
   "source": [
    "c1_H2_L2 = np.tanh(np.dot(X_a1_t, c1_par_L2[\"w\"]) + c1_par_L2[\"b\"])\n",
    "c1_B2_L2 =  np.dot(np.linalg.pinv(c1_H2_L2), y_a1_t)\n",
    "\n",
    "c1_H2_bias = np.tanh(np.dot(X_a1_t, c1_par_bias[\"w\"]) + c1_par_bias[\"b\"])\n",
    "c1_B2_bias =  np.dot(np.linalg.pinv(c1_H2_bias), y_a1_t)"
   ]
  },
  {
   "cell_type": "code",
   "execution_count": 194,
   "id": "9f6c233c-e3ca-4200-80dd-766ea3baaab7",
   "metadata": {},
   "outputs": [
    {
     "data": {
      "text/plain": [
       "(True, True)"
      ]
     },
     "execution_count": 194,
     "metadata": {},
     "output_type": "execute_result"
    }
   ],
   "source": [
    "np.allclose(c1_B2_L2,c1_par_L2[\"B\"],rtol=1e-05, atol=1e-02),np.allclose(c1_B2_bias,c1_par_bias[\"B\"],rtol=1e-05, atol=1e-02)"
   ]
  },
  {
   "cell_type": "code",
   "execution_count": null,
   "id": "b6d898f3-7960-4767-ab4b-3b763b5af318",
   "metadata": {},
   "outputs": [],
   "source": []
  },
  {
   "cell_type": "markdown",
   "id": "b9dd4531-fcb2-4d2e-a575-2d93245c80dc",
   "metadata": {},
   "source": [
    "For client2 ELM with L2 regularization"
   ]
  },
  {
   "cell_type": "code",
   "execution_count": null,
   "id": "49f633b8-d4ce-436b-944f-2046ece49eda",
   "metadata": {},
   "outputs": [],
   "source": []
  },
  {
   "cell_type": "code",
   "execution_count": 195,
   "id": "0841f7a2-f9a6-4c16-b737-ad5a43767f9e",
   "metadata": {},
   "outputs": [],
   "source": [
    "c2_erTest_L2, c2_r2_L2, c2_b_L2, c2_w_L2, c2_B_L2 = par_dis_L2(X_a2_t, X_a2_s, y_a2_t, y_a2_s)\n",
    "c2_erTest_bias, c2_r2_bias, c2_b_bias, c2_w_bias, c2_B_bias = par_dis_bias(X_a2_t, X_a2_s, y_a2_t, y_a2_s)\n"
   ]
  },
  {
   "cell_type": "code",
   "execution_count": 196,
   "id": "0257e03a-9cbb-4098-9eba-2df51cb52227",
   "metadata": {},
   "outputs": [
    {
     "data": {
      "text/plain": [
       "((100, 0.01), 0.6923565947741557)"
      ]
     },
     "execution_count": 196,
     "metadata": {},
     "output_type": "execute_result"
    }
   ],
   "source": [
    "c2_er_key_L2 = min(c2_erTest_L2, key=c2_erTest_L2.get)\n",
    "c2_er_key_L2,c2_erTest_L2[c2_er_key_L2]"
   ]
  },
  {
   "cell_type": "code",
   "execution_count": 197,
   "id": "21a323a0-a7e9-4324-abcd-483877b631cb",
   "metadata": {},
   "outputs": [
    {
     "data": {
      "text/plain": [
       "(45, 0.8341148031607638)"
      ]
     },
     "execution_count": 197,
     "metadata": {},
     "output_type": "execute_result"
    }
   ],
   "source": [
    "c2_er_key_bias = min(c2_erTest_bias, key=c2_erTest_bias.get)\n",
    "c2_er_key_bias, c2_erTest_bias[c2_er_key_bias]"
   ]
  },
  {
   "cell_type": "code",
   "execution_count": 198,
   "id": "2eb7beef-1162-4856-8d8c-5dd561553353",
   "metadata": {
    "tags": []
   },
   "outputs": [
    {
     "data": {
      "text/plain": [
       "(45, 0.3239821140131707)"
      ]
     },
     "execution_count": 198,
     "metadata": {},
     "output_type": "execute_result"
    }
   ],
   "source": [
    "c2_r2_key_bias  = max(c2_r2_bias, key=c2_r2_bias.get)\n",
    "c2_r2_key_bias, c2_r2_bias[c2_r2_key_bias]"
   ]
  },
  {
   "cell_type": "code",
   "execution_count": 199,
   "id": "f86d4f13-5c8f-4f4c-8318-29b36255f4e8",
   "metadata": {},
   "outputs": [
    {
     "data": {
      "text/plain": [
       "((100, 0.01), 0.5342357021044681)"
      ]
     },
     "execution_count": 199,
     "metadata": {},
     "output_type": "execute_result"
    }
   ],
   "source": [
    "c2_r2_key_L2  = max(c2_r2_L2, key=c2_r2_L2.get)\n",
    "c2_r2_key_L2, c2_r2_L2[c2_r2_key_L2]"
   ]
  },
  {
   "cell_type": "markdown",
   "id": "8ab00021-41c6-4de6-ba01-1b717a39bbbc",
   "metadata": {},
   "source": [
    "Note: a negative 𝑅2 is that the chosen model (with its constraints) fits the data really poorly."
   ]
  },
  {
   "cell_type": "code",
   "execution_count": 201,
   "id": "f981c0ba-713f-43e9-9bf7-b43079c2c630",
   "metadata": {},
   "outputs": [],
   "source": [
    "c2_b_L2_s=c2_b_L2[c2_r2_key_L2]\n",
    "c2_w_L2_s=c2_w_L2[c2_r2_key_L2]\n",
    "c2_B_L2_s=c2_B_L2[c2_r2_key_L2]\n",
    "\n",
    "c2_b_bias_s=c2_b_bias[c2_r2_key_bias]\n",
    "c2_w_bias_s=c2_w_bias[c2_r2_key_bias]\n",
    "c2_B_bias_s=c2_B_bias[c2_r2_key_bias]"
   ]
  },
  {
   "cell_type": "code",
   "execution_count": 226,
   "id": "4a188794-e79a-401d-920a-bd99c4f65820",
   "metadata": {},
   "outputs": [
    {
     "data": {
      "text/plain": [
       "45"
      ]
     },
     "execution_count": 226,
     "metadata": {},
     "output_type": "execute_result"
    }
   ],
   "source": [
    "c2_r2_key_bias"
   ]
  },
  {
   "cell_type": "code",
   "execution_count": 203,
   "id": "af70d752-6fc6-4528-a451-3bb10b2c94ed",
   "metadata": {},
   "outputs": [],
   "source": [
    "#save the input weight, output weight and the bias to a file \n",
    "if not os.path.exists(\"client2_par_L2.npz\" ):\n",
    "    np.savez(\"client2_par_L2.npz\", w=c2_w_L2_s, B=c2_B_L2_s, b=c2_b_L2_s, n_nuerons=c2_r2_key_L2[0], reg_cof= c2_r2_key_L2[1])\n",
    "else:\n",
    "    print(\" client2_par_L2.npz file exist!\")\n",
    "    \n",
    "if not os.path.exists(\"client2_par_bias.npz\" ):\n",
    "    np.savez(\"client2_par_bias.npz\", w=c2_w_bias_s, B=c2_B_bias_s, b=c2_b_bias_s, n_nuerons= c2_r2_key_bias)\n",
    "else:\n",
    "    print(\" client2_par_bias.npz file exist!\")"
   ]
  },
  {
   "cell_type": "markdown",
   "id": "db8320de-b572-49da-b3a6-e9f9ca3ac196",
   "metadata": {},
   "source": [
    "Load  client1 Parameters from file \"client1_par.npz\""
   ]
  },
  {
   "cell_type": "code",
   "execution_count": 204,
   "id": "853ac843-26ea-4841-9910-044e2a660252",
   "metadata": {
    "tags": []
   },
   "outputs": [],
   "source": [
    "c2_par_L2= np.load(\"client2_par_L2.npz\") #neurons and alpha\n",
    "c2_par_bias= np.load(\"client2_par_bias.npz\") #neurons and alpha"
   ]
  },
  {
   "cell_type": "code",
   "execution_count": 205,
   "id": "176ecec9-d66c-4e34-9670-548804c03320",
   "metadata": {},
   "outputs": [
    {
     "data": {
      "text/plain": [
       "(['w', 'B', 'b', 'n_nuerons', 'reg_cof'], ['w', 'B', 'b', 'n_nuerons'])"
      ]
     },
     "execution_count": 205,
     "metadata": {},
     "output_type": "execute_result"
    }
   ],
   "source": [
    "c2_par_L2.files, c2_par_bias.files"
   ]
  },
  {
   "cell_type": "code",
   "execution_count": 227,
   "id": "05d3d7e8-d675-4971-87c1-3c624bddb418",
   "metadata": {},
   "outputs": [
    {
     "data": {
      "text/plain": [
       "(100, 0.01, 45.0)"
      ]
     },
     "execution_count": 227,
     "metadata": {},
     "output_type": "execute_result"
    }
   ],
   "source": [
    "c2_nuerons_L2=int(c2_par_L2[\"n_nuerons\"])\n",
    "c2_regCoff_L2=float(c2_par_L2[\"reg_cof\"])\n",
    "\n",
    "c2_regCoff_bias=float(c2_par_bias[\"n_nuerons\"])\n",
    "c2_nuerons_L2,c2_regCoff_L2,c2_regCoff_bias"
   ]
  },
  {
   "cell_type": "markdown",
   "id": "c5321891-12e2-4769-bf8b-00019310fda4",
   "metadata": {},
   "source": [
    "Check the solution is the same? for client1 L2 regularaization"
   ]
  },
  {
   "cell_type": "code",
   "execution_count": 210,
   "id": "a82f2632-2572-4935-b897-c0640f011581",
   "metadata": {},
   "outputs": [],
   "source": [
    "c2_H2_L2 = np.tanh(np.dot(X_a2_t, c2_par_L2[\"w\"]) + c2_par_L2[\"b\"])\n",
    "c2_B2_L2 =  np.dot(np.linalg.pinv(c2_H2_L2), y_a2_t)\n",
    "\n",
    "c2_H2_bias = np.tanh(np.dot(X_a2_t, c2_par_bias[\"w\"]) + c2_par_bias[\"b\"])\n",
    "c2_B2_bias =  np.dot(np.linalg.pinv(c2_H2_bias), y_a2_t)"
   ]
  },
  {
   "cell_type": "code",
   "execution_count": 211,
   "id": "9ab9365d-f737-4d07-9e73-c6c8f7fc8b6a",
   "metadata": {},
   "outputs": [
    {
     "data": {
      "text/plain": [
       "(False, True)"
      ]
     },
     "execution_count": 211,
     "metadata": {},
     "output_type": "execute_result"
    }
   ],
   "source": [
    "\n",
    "np.allclose(c2_B2_L2,c2_par_L2[\"B\"],rtol=1e-05, atol=1e-02),np.allclose(c2_B2_bias,c2_par_bias[\"B\"],rtol=1e-05, atol=1e-02)\n"
   ]
  },
  {
   "cell_type": "code",
   "execution_count": null,
   "id": "317a9d2a-96f4-48df-81b7-0063ea1ceaa1",
   "metadata": {},
   "outputs": [],
   "source": []
  },
  {
   "cell_type": "markdown",
   "id": "806c99ce-6641-4cb7-b1f6-d11d90fbe6ab",
   "metadata": {},
   "source": [
    "For client2 (1000 samples), ELM with bias"
   ]
  },
  {
   "cell_type": "code",
   "execution_count": 212,
   "id": "7dcb6840-8c92-40b8-b8cd-7849c872956d",
   "metadata": {},
   "outputs": [],
   "source": [
    "c3_erTest_L2, c3_r2_L2, c3_b_L2, c3_w_L2, c3_B_L2 = par_dis_L2(X_a3_t, X_a3_s, y_a3_t, y_a3_s)\n",
    "c3_erTest_bias, c3_r2_bias, c3_b_bias, c3_w_bias, c3_B_bias = par_dis_bias(X_a3_t, X_a3_s, y_a3_t, y_a3_s)"
   ]
  },
  {
   "cell_type": "code",
   "execution_count": 213,
   "id": "4a8869b0-f320-47b7-9757-7b3845d1f2f0",
   "metadata": {},
   "outputs": [
    {
     "data": {
      "text/plain": [
       "((100, 0.001), 0.8516766430994426)"
      ]
     },
     "execution_count": 213,
     "metadata": {},
     "output_type": "execute_result"
    }
   ],
   "source": [
    "c3_er_key_L2 = min(c3_erTest_L2, key=c3_erTest_L2.get)\n",
    "c3_er_key_L2,c3_erTest_L2[c3_er_key_L2]"
   ]
  },
  {
   "cell_type": "code",
   "execution_count": 214,
   "id": "787c5a73-0019-4c70-89bd-866e8740d5cd",
   "metadata": {},
   "outputs": [
    {
     "data": {
      "text/plain": [
       "(70, 0.8996423150454732)"
      ]
     },
     "execution_count": 214,
     "metadata": {},
     "output_type": "execute_result"
    }
   ],
   "source": [
    "c3_er_key_bias = min(c3_erTest_bias, key=c3_erTest_bias.get)\n",
    "c3_er_key_bias, c3_erTest_bias[c3_er_key_bias]"
   ]
  },
  {
   "cell_type": "code",
   "execution_count": 215,
   "id": "56bb8221-54d5-44c8-8388-bacd69e31751",
   "metadata": {},
   "outputs": [
    {
     "data": {
      "text/plain": [
       "((100, 0.001), 0.5144563169774783)"
      ]
     },
     "execution_count": 215,
     "metadata": {},
     "output_type": "execute_result"
    }
   ],
   "source": [
    "c3_r2_key_L2  = max(c3_r2_L2, key=c3_r2_L2.get)\n",
    "c3_r2_key_L2, c3_r2_L2[c3_r2_key_L2]"
   ]
  },
  {
   "cell_type": "code",
   "execution_count": 216,
   "id": "3c697247-29c7-4387-97fd-5301c6f0a30c",
   "metadata": {},
   "outputs": [
    {
     "data": {
      "text/plain": [
       "(70, 0.4582254711846766)"
      ]
     },
     "execution_count": 216,
     "metadata": {},
     "output_type": "execute_result"
    }
   ],
   "source": [
    "c3_r2_key_bias  = max(c3_r2_bias, key=c3_r2_bias.get)\n",
    "c3_r2_key_bias, c3_r2_bias[c3_r2_key_bias]"
   ]
  },
  {
   "cell_type": "code",
   "execution_count": null,
   "id": "7b5589aa-7abc-4904-9f91-b31748700db4",
   "metadata": {},
   "outputs": [],
   "source": []
  },
  {
   "cell_type": "code",
   "execution_count": 217,
   "id": "392f8cc9-02c8-450b-b5f5-d2ebf4ccf5b4",
   "metadata": {},
   "outputs": [],
   "source": [
    "\n",
    "c3_b_L2_s=c3_b_L2[c3_r2_key_L2]\n",
    "c3_w_L2_s=c3_w_L2[c3_r2_key_L2]\n",
    "c3_B_L2_s=c3_B_L2[c3_r2_key_L2]\n",
    "\n",
    "c3_b_bias_s=c3_b_bias[c3_r2_key_bias]\n",
    "c3_w_bias_s=c3_w_bias[c3_r2_key_bias]\n",
    "c3_B_bias_s=c3_B_bias[c3_r2_key_bias]"
   ]
  },
  {
   "cell_type": "code",
   "execution_count": 218,
   "id": "7e2931a8-1919-4230-bc91-b32615cc95d9",
   "metadata": {},
   "outputs": [],
   "source": [
    "#save the input weight, output weight and the bias to a file \n",
    "if not os.path.exists(\"client3_par_bias.npz\" ):\n",
    "    np.savez(\"client3_par_bias.npz\", w=c3_w_bias_s, B=c3_B_bias_s, b=c3_b_bias_s, n_nuerons= c3_er_key_bias)\n",
    "else:\n",
    "    print(\" client3_par_bias.npz file exist!\")\n",
    "\n",
    "if not os.path.exists(\"client3_par_L2.npz\" ):\n",
    "    np.savez(\"client3_par_L2.npz\", w=c3_w_L2_s, B=c3_B_L2_s, b=c3_b_L2_s, n_nuerons=c3_er_key_L2[0], reg_cof= c3_er_key_L2[1])\n",
    "else:\n",
    "    print(\" client3_par_L2.npz file exist!\")"
   ]
  },
  {
   "cell_type": "code",
   "execution_count": 219,
   "id": "93062bff-06d8-4096-85e9-94fbed8b6999",
   "metadata": {},
   "outputs": [],
   "source": [
    "c3_par_bias= np.load(\"client3_par_bias.npz\") #neurons and alpha\n",
    "c3_par_L2= np.load(\"client3_par_L2.npz\") #neurons and alpha\n"
   ]
  },
  {
   "cell_type": "code",
   "execution_count": 228,
   "id": "3e22ee38-c6bb-478c-be1a-8cbae01bda8c",
   "metadata": {},
   "outputs": [
    {
     "data": {
      "text/plain": [
       "(100, 0.001, 70.0)"
      ]
     },
     "execution_count": 228,
     "metadata": {},
     "output_type": "execute_result"
    }
   ],
   "source": [
    "\n",
    "c3_nuerons_L2=int(c3_par_L2[\"n_nuerons\"])\n",
    "c3_regCoff_L2=float(c3_par_L2[\"reg_cof\"])\n",
    "\n",
    "c3_regCoff_bias=float(c3_par_bias[\"n_nuerons\"])\n",
    "c3_nuerons_L2,c3_regCoff_L2,c3_regCoff_bias"
   ]
  },
  {
   "cell_type": "code",
   "execution_count": 223,
   "id": "5e2287e1-153d-41c8-ae42-79aab5a89afd",
   "metadata": {},
   "outputs": [],
   "source": [
    "c3_H2_L2 = np.tanh(np.dot(X_a3_t, c3_par_L2[\"w\"]) + c3_par_L2[\"b\"])\n",
    "c3_B2_L2 =  np.dot(np.linalg.pinv(c3_H2_L2), y_a3_t)\n",
    "\n",
    "c3_H2_bias = np.tanh(np.dot(X_a3_t, c3_par_bias[\"w\"]) + c3_par_bias[\"b\"])\n",
    "c3_B2_bias =  np.dot(np.linalg.pinv(c3_H2_bias), y_a3_t)"
   ]
  },
  {
   "cell_type": "code",
   "execution_count": 224,
   "id": "e3f7cd4f-7af2-43ae-9a84-c5bd2804ced5",
   "metadata": {},
   "outputs": [
    {
     "data": {
      "text/plain": [
       "(True, True)"
      ]
     },
     "execution_count": 224,
     "metadata": {},
     "output_type": "execute_result"
    }
   ],
   "source": [
    "np.allclose(c3_B2_L2,c3_par_L2[\"B\"],rtol=1e-05, atol=1e-02),np.allclose(c3_B2_bias,c3_par_bias[\"B\"],rtol=1e-05, atol=1e-02)"
   ]
  },
  {
   "cell_type": "code",
   "execution_count": null,
   "id": "f3b2df57-60df-4e94-973c-84eba25370e4",
   "metadata": {},
   "outputs": [],
   "source": []
  },
  {
   "cell_type": "code",
   "execution_count": null,
   "id": "16147a82-8569-458d-99bf-34b6d140b609",
   "metadata": {},
   "outputs": [],
   "source": []
  },
  {
   "cell_type": "code",
   "execution_count": null,
   "id": "8c0b4286-5bce-4459-97d4-b3df39afc5b9",
   "metadata": {},
   "outputs": [],
   "source": []
  }
 ],
 "metadata": {
  "kernelspec": {
   "display_name": "Python 3 (ipykernel)",
   "language": "python",
   "name": "python3"
  },
  "language_info": {
   "codemirror_mode": {
    "name": "ipython",
    "version": 3
   },
   "file_extension": ".py",
   "mimetype": "text/x-python",
   "name": "python",
   "nbconvert_exporter": "python",
   "pygments_lexer": "ipython3",
   "version": "3.9.12"
  }
 },
 "nbformat": 4,
 "nbformat_minor": 5
}
