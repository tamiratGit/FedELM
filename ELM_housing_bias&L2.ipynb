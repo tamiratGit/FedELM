{
 "cells": [
  {
   "cell_type": "code",
   "execution_count": 125,
   "id": "9afab08e-19bb-4b22-b57a-71947452be4f",
   "metadata": {},
   "outputs": [],
   "source": [
    "import numpy as np\n",
    "from sklearn.datasets import fetch_california_housing\n",
    "from sklearn.model_selection import train_test_split\n",
    "from sklearn.preprocessing import StandardScaler\n",
    "from sklearn.preprocessing import RobustScaler\n",
    "from sklearn.metrics import mean_squared_error\n",
    "import matplotlib.pyplot as plt\n",
    "from scipy import linalg\n",
    "\n",
    "# Load the California Housing dataset\n",
    "data = fetch_california_housing()\n",
    "X, y = data.data, data.target"
   ]
  },
  {
   "cell_type": "code",
   "execution_count": 126,
   "id": "f8a80715-1cf4-49e0-b949-a15f2516876d",
   "metadata": {},
   "outputs": [],
   "source": [
    "# Normalize input data\n",
    "X = RobustScaler().fit_transform(X)\n",
    "\n",
    "# Split the dataset into training and testing sets\n",
    "X_train, X_test, y_train, y_test = train_test_split(X, y, test_size=0.2, random_state=42)"
   ]
  },
  {
   "cell_type": "code",
   "execution_count": 127,
   "id": "6b7d2c04-f3f8-45b1-9f15-ac2c824a8edb",
   "metadata": {},
   "outputs": [
    {
     "data": {
      "text/plain": [
       "((4128, 8), (20640,))"
      ]
     },
     "execution_count": 127,
     "metadata": {},
     "output_type": "execute_result"
    }
   ],
   "source": [
    "X_test.shape, y.shape"
   ]
  },
  {
   "cell_type": "code",
   "execution_count": 128,
   "id": "cae5f47f-e168-4c9f-8ce7-2cd2f848021c",
   "metadata": {},
   "outputs": [],
   "source": [
    "X_train_tr= X_train[:100]\n",
    "X_test_ts = X_test[100:150]\n",
    "y_train_tr= y_train[:100]\n",
    "y_test_ts = y_test[100:150]"
   ]
  },
  {
   "cell_type": "markdown",
   "id": "8b6a7d41-9069-4af6-955a-43fed9582c93",
   "metadata": {},
   "source": [
    "## ELM with bias"
   ]
  },
  {
   "cell_type": "code",
   "execution_count": 150,
   "id": "db3e835b-8c55-4a2e-b9e9-33d9424c017f",
   "metadata": {},
   "outputs": [],
   "source": [
    "# l = 45  Number of hidden neurons\n",
    "def ELM_bias(l, X_train, X_test, y_train, y_test):\n",
    "\n",
    "\n",
    "    # Randomly initialize the hidden layer weights and biases\n",
    "    n = X_train.shape[1]\n",
    "    w = np.random.rand(n, l)\n",
    "    b = np.random.rand(l) #bias\n",
    "\n",
    "    # Calculate the hidden layer activations\n",
    "    H_train = np.tanh(np.dot(X_train, w) + b)\n",
    "    H_test = np.tanh(np.dot(X_test, w) + b)\n",
    "\n",
    "    # Calculate the output layer weights using the Moore-Penrose pseudoinverse\n",
    "    B = np.dot(np.linalg.pinv(H_train), y_train)\n",
    "\n",
    "    # Predict on the training and testing data\n",
    "    y_train_pred = np.dot(H_train, B)\n",
    "    y_test_pred = np.dot(H_test, B)\n",
    "\n",
    "    # Calculate Mean Squared Error\n",
    "    train_mse = mean_squared_error(y_train, y_train_pred)\n",
    "    test_mse = mean_squared_error(y_test, y_test_pred)\n",
    "    \n",
    "\n",
    "    return train_mse, test_mse, B,b, w\n",
    "\n"
   ]
  },
  {
   "cell_type": "code",
   "execution_count": 151,
   "id": "2711fc10-0ce7-49cc-9992-3f2c4358783b",
   "metadata": {},
   "outputs": [
    {
     "data": {
      "text/plain": [
       "'def plot_predictVsActual(y_test, y_test_pred):\\n    \\n    # Plot predictions vs. actual values for the test set\\n    plt.scatter(y_test, y_test_pred)\\n    plt.xlabel(\"True Values\")\\n    plt.ylabel(\"Predicted Values\")\\n    plt.title(\"ELM Predictions vs. Actual Values\")\\n    return plt.show()'"
      ]
     },
     "execution_count": 151,
     "metadata": {},
     "output_type": "execute_result"
    }
   ],
   "source": [
    "\"\"\"def plot_predictVsActual(y_test, y_test_pred):\n",
    "    \n",
    "    # Plot predictions vs. actual values for the test set\n",
    "    plt.scatter(y_test, y_test_pred)\n",
    "    plt.xlabel(\"True Values\")\n",
    "    plt.ylabel(\"Predicted Values\")\n",
    "    plt.title(\"ELM Predictions vs. Actual Values\")\n",
    "    return plt.show()\"\"\"\n"
   ]
  },
  {
   "cell_type": "code",
   "execution_count": 152,
   "id": "49624f9c-32b5-40a2-8353-91cba2d965f7",
   "metadata": {},
   "outputs": [
    {
     "name": "stdout",
     "output_type": "stream",
     "text": [
      "RMSE on training set: 0.38\n",
      "RMSE on test set: 1.24\n"
     ]
    }
   ],
   "source": [
    "rmse_train, rmse_test, B_bias,bias, W_bias = ELM_bias(45, X_train_tr, X_test_ts, y_train_tr, y_test_ts )\n",
    "print(f\"RMSE on training set: {rmse_train:.2f}\")\n",
    "print(f\"RMSE on test set: {rmse_test:.2f}\")"
   ]
  },
  {
   "cell_type": "code",
   "execution_count": 153,
   "id": "7acefc12-55ba-4c4e-97bd-99563a6ebfaa",
   "metadata": {},
   "outputs": [
    {
     "name": "stdout",
     "output_type": "stream",
     "text": [
      "RMSE on training set: 0.67\n",
      "RMSE on test set: 0.67\n"
     ]
    }
   ],
   "source": [
    "rmse_train, rmse_test, B_bias,bias, W_bias = ELM_bias(45, X_train, X_test, y_train, y_test )\n",
    "print(f\"RMSE on training set: {rmse_train:.2f}\")\n",
    "print(f\"RMSE on test set: {rmse_test:.2f}\")\n",
    "\n",
    "\n",
    "#plot_predictVsActual(y_test, y_test_pred)"
   ]
  },
  {
   "cell_type": "code",
   "execution_count": null,
   "id": "be342bc6-bf27-4e44-a630-0992e63943d1",
   "metadata": {},
   "outputs": [],
   "source": []
  },
  {
   "cell_type": "markdown",
   "id": "030962a2-2ab8-440d-8df0-6da61e0d2a38",
   "metadata": {},
   "source": [
    "## ELM with L2 regularzation "
   ]
  },
  {
   "cell_type": "code",
   "execution_count": 147,
   "id": "27cb783c-ed26-46ba-a4f6-dbd44c88e270",
   "metadata": {},
   "outputs": [],
   "source": [
    "# l is Number of hidden neurons\n",
    "    \n",
    "def ELM_L2(l, X_train, X_test, y_train, y_test, alpha = 1e-5):\n",
    "    \n",
    "    # Generate random input-to-hidden weights and bias\n",
    "    n = X_train.shape[1]\n",
    "    w = np.random.randn(n, l)\n",
    "    b = np.random.randn(1, l)\n",
    "\n",
    "    # Compute the hidden layer output \n",
    "    H = np.tanh(np.dot(X_train, w) + b)  # Apply activation function (tanh)\n",
    "\n",
    "    # Calculate the output weights using the Moore-Penrose pseudoinverse\n",
    "    B = np.dot(linalg.pinv(H.T.dot(H) + alpha * np.eye(l)), H.T.dot(y_train)) #output_weights\n",
    "    \n",
    "\n",
    "    # Calculate the predicted output on the training set\n",
    "    pred_train = np.dot(H, B)\n",
    "\n",
    "    # Calculate the predicted output on the testing set\n",
    "    H_test = np.tanh(np.dot(X_test, w) + b)\n",
    "    pred_test = np.dot(H_test, B)\n",
    "\n",
    "    # Calculate the mean squared error on the training and testing sets\n",
    "    mse_train = mean_squared_error(y_train, pred_train)\n",
    "    mse_test = mean_squared_error(y_test, pred_test)\n",
    "\n",
    "    return mse_train, mse_test,w ,B , b   "
   ]
  },
  {
   "cell_type": "code",
   "execution_count": 148,
   "id": "d736c306-3247-4b95-99a5-5c2a48d20a23",
   "metadata": {},
   "outputs": [
    {
     "name": "stdout",
     "output_type": "stream",
     "text": [
      "RMSE on training set: 0.14\n",
      "RMSE on test set: 1.29\n",
      "RMSE on training set: 0.23\n",
      "RMSE on test set: 1.29\n",
      "RMSE on training set: 0.27\n",
      "RMSE on test set: 1.28\n"
     ]
    }
   ],
   "source": [
    "for alpha in ( 1E-6, 1E-5, 1E-4):\n",
    "    rmse_train_L2, rmse_test_L2, W_L2, B_L2,bias_L2  = ELM_L2(45,X_train_tr, X_test_ts, y_train_tr, y_test_ts ,alpha)\n",
    "    print(f\"RMSE on training set: {rmse_train_L2:.2f}\")\n",
    "    print(f\"RMSE on test set: {rmse_test_L2:.2f}\")"
   ]
  },
  {
   "cell_type": "code",
   "execution_count": 149,
   "id": "8790563b-dadf-405b-8c5d-9de1a94ee7d6",
   "metadata": {},
   "outputs": [
    {
     "name": "stdout",
     "output_type": "stream",
     "text": [
      "RMSE on training set: 0.72\n",
      "RMSE on test set: 0.73\n",
      "RMSE on training set: 0.54\n",
      "RMSE on test set: 0.55\n",
      "RMSE on training set: 0.59\n",
      "RMSE on test set: 0.59\n"
     ]
    }
   ],
   "source": [
    "for alpha in ( 1E-6, 1E-5, 1E-4):\n",
    "    rmse_train_L2, rmse_test_L2, W_L2, B_L2,bias_L2  = ELM_L2(45,X_train, X_test, y_train, y_test ,alpha)\n",
    "    print(f\"RMSE on training set: {rmse_train_L2:.2f}\")\n",
    "    print(f\"RMSE on test set: {rmse_test_L2:.2f}\")\n"
   ]
  },
  {
   "cell_type": "code",
   "execution_count": null,
   "id": "b76551bb-b975-4d00-bc5f-f17ca7d003ae",
   "metadata": {},
   "outputs": [],
   "source": []
  },
  {
   "cell_type": "markdown",
   "id": "607c520e-d1dc-460b-8eb6-3f4ab915b261",
   "metadata": {},
   "source": [
<<<<<<< HEAD
    "## Check that the solution is the same for  ELM with bias component and with L2 regularization "
=======
    "## Check that the solution is the same for Basic ELM  and  ELM with bias component"
>>>>>>> 66f81a4 (california_housing)
   ]
  },
  {
   "cell_type": "markdown",
   "id": "3f24119c-e294-4d7f-ad37-9198185659d2",
   "metadata": {},
   "source": [
    "ELM_bias"
   ]
  },
  {
   "cell_type": "code",
   "execution_count": 83,
   "id": "ce063d53-5231-45bf-a50b-5b20a36c31b4",
   "metadata": {},
   "outputs": [],
   "source": [
    "np.savez(\"Housing_bias.npz\", B_bias=B_bias, W_bias=W_bias, bias=bias)\n"
   ]
  },
  {
   "cell_type": "code",
   "execution_count": 84,
   "id": "b90707f7-58b4-4e1b-acd2-110707f40c59",
   "metadata": {},
   "outputs": [],
   "source": [
    "Housing_bias = np.load(\"Housing_bias.npz\")"
   ]
  },
  {
   "cell_type": "code",
   "execution_count": 87,
   "id": "de725eba-bbd2-4bcb-a2a2-192e6dc9ce3c",
   "metadata": {},
   "outputs": [],
   "source": [
    "H2_bias = np.tanh(np.dot(X_train, Housing_bias[\"W_bias\"]) + Housing_bias[\"bias\"])"
   ]
  },
  {
   "cell_type": "code",
   "execution_count": 88,
   "id": "116e682c-3d56-47fd-aae2-145b90327024",
   "metadata": {},
   "outputs": [],
   "source": [
    "B2_bias = np.dot(np.linalg.pinv(H2_bias), y_train)"
   ]
  },
  {
   "cell_type": "code",
   "execution_count": 89,
   "id": "339b10d0-efb2-4af9-ba53-b7f249509758",
   "metadata": {},
   "outputs": [
    {
     "data": {
      "text/plain": [
       "True"
      ]
     },
     "execution_count": 89,
     "metadata": {},
     "output_type": "execute_result"
    }
   ],
   "source": [
    "np.allclose(B2_bias,Housing_bias[\"B_bias\"] )"
   ]
  },
  {
   "cell_type": "code",
   "execution_count": null,
   "id": "b5fd6c04-c008-489c-8fa8-89461472f774",
   "metadata": {},
   "outputs": [],
   "source": []
  }
 ],
 "metadata": {
  "kernelspec": {
   "display_name": "Python 3 (ipykernel)",
   "language": "python",
   "name": "python3"
  },
  "language_info": {
   "codemirror_mode": {
    "name": "ipython",
    "version": 3
   },
   "file_extension": ".py",
   "mimetype": "text/x-python",
   "name": "python",
   "nbconvert_exporter": "python",
   "pygments_lexer": "ipython3",
   "version": "3.9.12"
  }
 },
 "nbformat": 4,
 "nbformat_minor": 5
}
