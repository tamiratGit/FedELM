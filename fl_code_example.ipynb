{
 "cells": [
  {
   "cell_type": "code",
   "execution_count": null,
   "id": "4385ec86-55e3-44f3-acc7-409ff56746bc",
   "metadata": {},
   "outputs": [],
   "source": []
  },
  {
   "cell_type": "code",
   "execution_count": 1,
   "id": "d9426b9f-f58a-41c5-9e59-465c2bfe275f",
   "metadata": {},
   "outputs": [],
   "source": [
    "import numpy as np\n",
    "import pandas  as pd\n",
    "from sklearn.datasets import fetch_california_housing\n",
    "from sklearn.model_selection import train_test_split\n",
    "from sklearn.preprocessing import StandardScaler\n",
    "from sklearn.preprocessing import RobustScaler\n",
    "from sklearn.metrics import mean_squared_error,r2_score\n",
    "import matplotlib.pyplot as plt\n",
    "from scipy import linalg\n",
    "from math import sqrt"
   ]
  },
  {
   "cell_type": "code",
   "execution_count": 2,
   "id": "120b695f-097f-4989-9bf5-767f6deeee44",
   "metadata": {},
   "outputs": [
    {
     "data": {
      "text/plain": [
       "['X_a2_sc', 'y_a2']"
      ]
     },
     "execution_count": 2,
     "metadata": {},
     "output_type": "execute_result"
    }
   ],
   "source": [
    "client1 =np.load(\"FedELM/client1.npz\")\n",
    "client2 =np.load(\"FedELM/client2.npz\")\n",
    "client3 =np.load(\"FedELM/client3.npz\")\n",
    "client2.files"
   ]
  },
  {
   "cell_type": "code",
   "execution_count": 3,
   "id": "ebb255ae-e732-4c5d-b862-928a46203764",
   "metadata": {},
   "outputs": [
    {
     "data": {
      "text/plain": [
       "(412, 8)"
      ]
     },
     "execution_count": 3,
     "metadata": {},
     "output_type": "execute_result"
    }
   ],
   "source": [
    "client1[\"X_a1_sc\"].shape"
   ]
  },
  {
   "cell_type": "code",
   "execution_count": 4,
   "id": "954fba06-1667-4055-bcca-e3adff417395",
   "metadata": {},
   "outputs": [
    {
     "data": {
      "text/plain": [
       "((100, 8), (312,), (1000, 8), (4080,), (10000, 8), (5148, 8))"
      ]
     },
     "execution_count": 4,
     "metadata": {},
     "output_type": "execute_result"
    }
   ],
   "source": [
    "X_a1_t,X_a1_s,y_a1_t,y_a1_s  = client1[\"X_a1_sc\"][:100],client1[\"X_a1_sc\"][100:],client1[\"y_a1\"][:100],client1[\"y_a1\"][100:]\n",
    "X_a2_t,X_a2_s,y_a2_t,y_a2_s  = client2[\"X_a2_sc\"][:1000],client2[\"X_a2_sc\"][1000:],client2[\"y_a2\"][:1000],client2[\"y_a2\"][1000:]\n",
    "X_a3_t, X_a3_s, y_a3_t, y_a3_s = client3[\"X_a3_sc\"][:10000],client3[\"X_a3_sc\"][10000:],client3[\"y_a3\"][:10000],client3[\"y_a3\"][10000:]\n",
    "                                                  \n",
    "X_a1_t.shape, y_a1_s.shape,X_a2_t.shape,y_a2_s.shape,X_a3_t.shape, X_a3_s.shape"
   ]
  },
  {
   "cell_type": "code",
   "execution_count": 5,
   "id": "edaaee27-cec2-46fe-92f0-51955276e46b",
   "metadata": {},
   "outputs": [
    {
     "data": {
      "text/plain": [
       "100"
      ]
     },
     "execution_count": 5,
     "metadata": {},
     "output_type": "execute_result"
    }
   ],
   "source": [
    "len(X_a1_t)"
   ]
  },
  {
   "cell_type": "code",
   "execution_count": 6,
   "id": "9cf6020f-57f8-4535-ba87-25c6e8dd1d62",
   "metadata": {},
   "outputs": [],
   "source": [
    "c1_par_L2= np.load(\"FedELM/client1_par_L2.npz\") #neurons and alpha\n",
    "c2_par_L2= np.load(\"FedELM/client2_par_L2.npz\") #neurons and alpha\n",
    "c3_par_L2= np.load(\"FedELM/client3_par_L2.npz\") #neurons and alpha"
   ]
  },
  {
   "cell_type": "code",
   "execution_count": null,
   "id": "a9bf3c6d-a20e-426c-99ba-91cc940add3c",
   "metadata": {},
   "outputs": [],
   "source": []
  },
  {
   "cell_type": "code",
   "execution_count": null,
   "id": "fbc3cc26-4d08-46d7-819e-ad23ce50a457",
   "metadata": {},
   "outputs": [],
   "source": []
  },
  {
   "cell_type": "markdown",
   "id": "d08da937-1df4-458e-bf11-e815cf9372e2",
   "metadata": {},
   "source": [
    "# Client 1,2,3"
   ]
  },
  {
   "cell_type": "code",
   "execution_count": 14,
   "id": "6da245ca-58b6-4987-b236-5bd4032cd628",
   "metadata": {},
   "outputs": [],
   "source": [
    "class clientz1:\n",
    "    l=20 # hidden neurones\n",
    "    cl1 =np.load(\"FedELM/client1.npz\")\n",
    "    \n",
    "    X_a1_t,X_a1_s,y_a1_t,y_a1_s  = cl1[\"X_a1_sc\"][:10000],cl1[\"X_a1_sc\"][10000:],cl1[\"y_a1\"][:10000],cl1[\"y_a1\"][10000:]\n",
    "    input_size= len(X_a1_t[1])\n",
    "    def __init__(self,batch_size, alpha=0.001):\n",
    "        self.input_size = clientz1.input_size\n",
    "        self.w = None\n",
    "        self.b = None\n",
    "        self.batch_size=batch_size\n",
    "        self.reg_term = np.eye(clientz1.l) * alpha\n",
    "          \n",
    "   \n",
    "    def get_Nfs(self):\n",
    "        return self.input_size, self.input_size\n",
    "    \n",
    "    def set_W_b(self,w,b):\n",
    "        self.w=w\n",
    "        self.b=b\n",
    "      \n",
    "    \n",
    "    def batches(self):\n",
    "        \n",
    "        batch_X=[]\n",
    "        batch_y=[]\n",
    "        \n",
    "        if self.batch_size >= self.input_size:\n",
    "            batch_X.append(X_a1_t)\n",
    "            batch_y.append(y_a1_t)\n",
    "             \n",
    "        else:\n",
    "            for i in range (0, self.input_size , self.batch_size):\n",
    "                batch_X.append(X_a1_t[i:i + self.batch_size])\n",
    "                batch_y.append(y_a1_t[i:i + self.batch_size])\n",
    "            \n",
    "        for X,y in zip(batch_X,batch_y): \n",
    "            \n",
    "             # Compute the hidden layer output \n",
    "            H = np.tanh(np.dot(X, self.w) + self.b)  # Apply activation function (tanh)\n",
    "\n",
    "            HTH = H.T @ H\n",
    "            HTH_pinv= linalg.pinv(HTH) + self.reg_term\n",
    "            HTy = H.T @ y\n",
    "            \n",
    "            #print(HTH)\n",
    "            print(HTy)\n",
    "            \n",
    "            yield HTH_pinv, HTy               \n",
    "                      \n",
    "    def get_batch_weights(self):\n",
    "        bac=self.batches()\n",
    "        HTH_c1=[]\n",
    "        HTy_c1=[]\n",
    "        B= [] #np.zeros(self.input_size, clientz1.l)\n",
    "        for HTHb,HTyb in bac:\n",
    "            HTH_c1=HTHb\n",
    "            HTy_c1=HTyb\n",
    "        B=np.dot(linalg.pinv(HTH_c1),HTy_c1)\n",
    "\n",
    "        average_matrix1 = np.mean(B, axis=0)\n",
    "        print(\"average:\", average_matrix1)\n",
    "        print(\"B:\", B)\n",
    "        \n",
    "        \n",
    "        return B, average_matrix1 #HTH_c3, HTy_c3\n",
    "    \n",
    "    def predict_test(self, B):\n",
    "                                    \n",
    "        # Calculate the predicted output on the testing set\n",
    "        H_test = np.tanh(np.dot(X_a1_s, self.w) + self.b)\n",
    "        pred_test = np.dot(H_test, B)\n",
    "        r2 = r2_score(y_a1_s, pred_test)\n",
    "        return r2\n"
   ]
  },
  {
   "cell_type": "code",
   "execution_count": 15,
   "id": "a8001a01-c03a-46c6-950c-2ff2e6855849",
   "metadata": {},
   "outputs": [],
   "source": [
    "class clientz2:\n",
    "    \n",
    "    l=20 # hidden neurones\n",
    "    cl2 =np.load(\"FedELM/client2.npz\")\n",
    "    \n",
    "    X_a2_t,X_a2_s,y_a2_t,y_a2_s  = cl2[\"X_a2_sc\"][:10000],cl2[\"X_a2_sc\"][10000:],cl2[\"y_a2\"][:10000],cl2[\"y_a2\"][10000:]\n",
    "    input_size= len(X_a2_t[1])\n",
    "    def __init__(self, batch_size, alpha=0.001):\n",
    "        self.input_size = clientz2.input_size\n",
    "        self.w = None\n",
    "        self.b = None\n",
    "        self.batch_size= batch_size\n",
    "        self.reg_term = np.eye(clientz2.l) * alpha\n",
    "          \n",
    "\n",
    "    def get_Nfs(self):\n",
    "        return self.input_size, self.input_size\n",
    "    \n",
    "    def set_W_b(self,w,b):\n",
    "        self.w=w\n",
    "        self.b=b\n",
    "        \n",
    " \n",
    "    def batches(self):\n",
    "        \n",
    "        batch_X=[]\n",
    "        batch_y=[]\n",
    "        \n",
    "        \n",
    "        if self.batch_size >= self.input_size:\n",
    "            batch_X.append(X_a2_t)\n",
    "            batch_y.append(y_a2_t)\n",
    "             \n",
    "        else:\n",
    "            for i in range (0, self.input_size , self.batch_size):\n",
    "                batch_X.append(X_a2_t[i:i + self.batch_size])\n",
    "                batch_y.append(y_a2_t[i:i + self.batch_size])\n",
    "            \n",
    "            \n",
    "        for X,y in zip(batch_X,batch_y): \n",
    "            \n",
    "             # Compute the hidden layer output \n",
    "            H = np.tanh(np.dot(X, self.w) + self.b)  # Apply activation function (tanh)\n",
    "    \n",
    "            # Calculate the output weights using the Moore-Penrose pseudoinverse\n",
    "            # B = np.dot(linalg.pinv(H.T.dot(H) + alpha *np. eye(l)), H.T.dot(y_train)) #output_weights\n",
    "    \n",
    "            HTH = H.T @ H\n",
    "            HTH_pinv= linalg.pinv(HTH) + self.reg_term\n",
    "            HTy = H.T @ y\n",
    "            #print(HTH)\n",
    "            #print(HTy)\n",
    "            yield HTH_pinv, HTy\n",
    "                      \n",
    "                \n",
    "    \n",
    "    def get_batch_weights(self):\n",
    "        bac=self.batches()\n",
    "        HTH_c2=[]\n",
    "        HTy_c2=[]\n",
    "        B=[]\n",
    "        for HTHb,HTyb in bac:\n",
    "            HTH_c2=HTHb\n",
    "            HTy_c2=HTyb\n",
    "        B=np.dot(linalg.pinv(HTH_c2),HTy_c2)\n",
    "\n",
    "        average_matrix2 = np.mean(B, axis=0)\n",
    "        print(\"B:\", B)\n",
    "        #print(\"HTH_pinv:\", HTH_pinv_c1)\n",
    "        \n",
    "            \n",
    "        return B, average_matrix2 #HTH_c3, HTy_c3\n",
    "    \n",
    "    def predict_test(self, B):\n",
    "                                    \n",
    "        # Calculate the predicted output on the testing set\n",
    "        H_test = np.tanh(np.dot(X_a2_s, self.w) + self.b)\n",
    "        pred_test = np.dot(H_test, B)\n",
    "        r2 = r2_score(y_a2_s, pred_test)\n",
    "        return r2\n"
   ]
  },
  {
   "cell_type": "code",
   "execution_count": 16,
   "id": "89555851-4d27-4374-b665-38b1a0816894",
   "metadata": {},
   "outputs": [],
   "source": [
    "class clientz3:\n",
    "    l=20\n",
    "    cl3 =np.load(\"FedELM/client3.npz\")\n",
    "    X_a3_t,X_a3_s,y_a3_t,y_a3_s  = cl3[\"X_a3_sc\"][:10000],cl3[\"X_a3_sc\"][10000:],cl3[\"y_a3\"][:10000],cl3[\"y_a3\"][10000:]\n",
    "    input_size= len(X_a3_t[1])\n",
    "    def __init__(self, batch_size, alpha=0.001):\n",
    "        self.input_size = clientz3.input_size\n",
    "        self.w = None\n",
    "        self.b = None\n",
    "        self.batch_size=batch_size\n",
    "        self.reg_term = np.eye(clientz3.l) * alpha\n",
    "           \n",
    "    \n",
    "    def get_Nfs(self):\n",
    "        return self.input_size, self.input_size\n",
    "    \n",
    "    def set_W_b(self,w,b):\n",
    "        self.w=w\n",
    "        self.b=b\n",
    "      \n",
    "    \n",
    "    def batches(self):\n",
    "        \n",
    "        batch_X=[]\n",
    "        batch_y=[]\n",
    "        \n",
    "        \n",
    "        if self.batch_size >= self.input_size:\n",
    "            batch_X.append(X_a3_t)\n",
    "            batch_y.append(y_a3_t)\n",
    "             \n",
    "        else:\n",
    "            for i in range (0, self.input_size , self.batch_size):\n",
    "                batch_X.append(X_a3_t[i:i + self.batch_size])\n",
    "                batch_y.append(y_a3_t[i:i + self.batch_size])\n",
    "            \n",
    "        for X,y in zip(batch_X,batch_y): \n",
    "            # Compute the hidden layer output \n",
    "            H = np.tanh(np.dot(X, self.w) + self.b)  # Apply activation function (tanh)\n",
    "\n",
    "            HTH = H.T @ H\n",
    "             #HTH_pinv= linalg.pinv(HTH) + self.reg_term\n",
    "            HTy = H.T @ y\n",
    "\n",
    "            yield HTH, HTy\n",
    "                      \n",
    "    def get_batch_weights(self):\n",
    "        bac=self.batches()\n",
    "        HTH_c3=[]\n",
    "        HTy_c3=[]\n",
    "        B= [] #np.zeros(self.input_size, int(clientz3.l)\n",
    "        for HTHb,HTyb in bac:\n",
    "            HTH_c3=HTHb\n",
    "            HTy_c3=HTyb\n",
    "        B=np.dot(linalg.pinv(HTH_c3),HTy_c3)\n",
    "\n",
    "        average_matrix3 = np.mean(B, axis=0)\n",
    "        print(\"B:\", B)\n",
    "        #print(\"HTH_pinv:\", HTH_pinv_c1)\n",
    "       \n",
    "            \n",
    "        return B, average_matrix3 #HTH_c3, HTy_c3\n",
    "    \n",
    "    def predict_test(self, B):\n",
    "                                    \n",
    "        # Calculate the predicted output on the testing set\n",
    "        H_test = np.tanh(np.dot(X_a3_s, self.w) + self.b)\n",
    "        pred_test = np.dot(H_test, B)\n",
    "        r2 = r2_score(y_a3_s, pred_test)\n",
    "        return r2\n",
    "        \n"
   ]
  },
  {
   "cell_type": "markdown",
   "id": "dfb8f96e-5b57-4682-86f3-bbb31eb446d1",
   "metadata": {},
   "source": [
    "#  Server side"
   ]
  },
  {
   "cell_type": "code",
   "execution_count": 17,
   "id": "c386ddfd-6869-420d-9224-8e881880bbc3",
   "metadata": {},
   "outputs": [],
   "source": [
    "def average_matrices(matrix1, matrix2, matrix3):\n",
    "    # Check if the matrices have the same shape\n",
    "    if matrix1.shape == matrix2.shape == matrix3.shape:\n",
    "        # Sum the matrices element-wise\n",
    "        average_matrix = (matrix1 + matrix2 + matrix3) / 3\n",
    "        return average_matrix\n",
    "    else:\n",
    "        print(\"Matrices have different shapes and cannot be averaged.\")\n",
    "    \n",
    "# Output the average matrix\n"
   ]
  },
  {
   "cell_type": "code",
   "execution_count": 22,
   "id": "3db7ab08-5935-4578-97cc-ea6550cdd742",
   "metadata": {},
   "outputs": [],
   "source": [
    "#  For Client1\n",
    "hidden_size = 20\n",
    "c1=clientz1(batch_size=100,alpha=0.001)\n",
    "c1_sample, c1_nf= c1.get_Nfs()\n",
    "\n",
    "c1_w_inital = np.random.rand(c1_nf, hidden_size)\n",
    "c1_bias_inital = np.random.rand(hidden_size)"
   ]
  },
  {
   "cell_type": "code",
   "execution_count": 23,
   "id": "d96dbde0-1d9f-4ce2-8dd7-4654d29794b9",
   "metadata": {},
   "outputs": [
    {
     "name": "stdout",
     "output_type": "stream",
     "text": [
      "[ 40.73224446  54.55554361  -1.23031285  60.50985711  49.21622034\n",
      "  53.73392141  -7.43670056  29.54065589  36.28135407  41.54495383\n",
      "  55.4729184  -11.16880088  21.86469907  10.72219773  60.18706898\n",
      "  -8.02079868  45.4339485   63.19388143  62.20485533   8.00736375]\n",
      "average: 16133.34796063813\n",
      "B: [19008.92405291 21442.74026809  6424.50123521 21844.10963604\n",
      " 19712.67777385 22221.93393681  4056.24995711 16843.13824267\n",
      " 18262.68042405 20213.72407812 22343.42448492  3177.3129655\n",
      " 14188.63903976 10880.14537772 22635.91047808  4607.45758581\n",
      " 20396.28038911 21923.77079847 22454.15406943 10029.18441907]\n"
     ]
    }
   ],
   "source": [
    "c1.set_W_b(c1_w_inital, c1_bias_inital)\n",
    "B1, ave=c1.get_batch_weights()"
   ]
  },
  {
   "cell_type": "code",
   "execution_count": 24,
   "id": "7ba52d1a-e647-45b1-a22c-191b2460592f",
   "metadata": {},
   "outputs": [
    {
     "data": {
      "text/plain": [
       "-752996132815.4528"
      ]
     },
     "execution_count": 24,
     "metadata": {},
     "output_type": "execute_result"
    }
   ],
   "source": [
    "c1.predict_test(B1)"
   ]
  },
  {
   "cell_type": "code",
   "execution_count": null,
   "id": "20830d7f-95e6-446a-9523-999be3cf8b65",
   "metadata": {},
   "outputs": [],
   "source": []
  },
  {
   "cell_type": "code",
   "execution_count": 25,
   "id": "e3771ba9-f1e7-491b-aa29-b60b7969b58d",
   "metadata": {},
   "outputs": [],
   "source": [
    "#  For Client2\n",
    "hidden_size = 20\n",
    "c2=clientz2(batch_size=1000,alpha=0.001)\n",
    "c2_sample, c2_nf= c2.get_Nfs()\n",
    "\n",
    "c2_w_inital = np.random.rand(c2_nf, hidden_size)\n",
    "c2_bias_inital = np.random.rand(hidden_size)\n",
    "\n"
   ]
  },
  {
   "cell_type": "code",
   "execution_count": 26,
   "id": "db1e1109-ffc0-4284-8d53-92aeb56cd70b",
   "metadata": {},
   "outputs": [
    {
     "name": "stdout",
     "output_type": "stream",
     "text": [
      "B: [ -927537.36285745  1678044.74311429 -1751930.58568975 -1663290.15502051\n",
      " -1735254.06201718 -1686178.80500202  1671221.06272752   879784.80826537\n",
      "  -810601.85574736 -1742936.74208014  -596248.23964385 -1604533.94579762\n",
      " -1720048.087225   -1622838.12050285  -845619.58870644   983964.60779594\n",
      "  -818273.68579004  1649255.88373942  -522378.41602451 -1721217.50573472]\n"
     ]
    }
   ],
   "source": [
    "c2.set_W_b(c2_w_inital, c2_bias_inital)\n",
    "B2, ave2=c2.get_batch_weights()"
   ]
  },
  {
   "cell_type": "code",
   "execution_count": 28,
   "id": "7836e591-22ab-4cf9-bf5a-be6a2432849e",
   "metadata": {},
   "outputs": [
    {
     "data": {
      "text/plain": [
       "-495019560179845.6"
      ]
     },
     "execution_count": 28,
     "metadata": {},
     "output_type": "execute_result"
    }
   ],
   "source": [
    "c2.predict_test(B2)"
   ]
  },
  {
   "cell_type": "code",
   "execution_count": null,
   "id": "bed7c384-cbdc-4e1f-a2fb-c12c06efc524",
   "metadata": {},
   "outputs": [],
   "source": []
  },
  {
   "cell_type": "code",
   "execution_count": 29,
   "id": "b820c490-6dca-4f56-a15d-7ca49c928e66",
   "metadata": {},
   "outputs": [],
   "source": [
    "# For Client3\n",
    "hidden_size = 20\n",
    "c3=clientz3(batch_size=1000,alpha=0.001)\n",
    "c3_sample, c3_nf= c3.get_Nfs()\n",
    "\n",
    "c3_w_inital = np.random.rand(c3_nf, hidden_size)\n",
    "c3_bias_inital = np.random.rand(hidden_size)\n"
   ]
  },
  {
   "cell_type": "code",
   "execution_count": null,
   "id": "05044a92-1e7a-4db0-98f8-ac0ed73acb39",
   "metadata": {},
   "outputs": [],
   "source": []
  },
  {
   "cell_type": "code",
   "execution_count": 30,
   "id": "17152c4d-6a19-4486-9ebd-976d3302378a",
   "metadata": {},
   "outputs": [
    {
     "name": "stdout",
     "output_type": "stream",
     "text": [
      "B: [ 0.46449014  0.47361592 -1.77812215  0.4779571   0.56813994 -1.27859344\n",
      "  0.11825827 -0.40824866  0.71636773 -0.46309237  1.15987426 -1.00163075\n",
      " -0.24687764 -0.12080871 -0.29985752  0.00901283  0.76016422 -1.13980996\n",
      "  0.06895654  1.40429811]\n"
     ]
    },
    {
     "data": {
      "text/plain": [
       "array([ 0.46449014,  0.47361592, -1.77812215,  0.4779571 ,  0.56813994,\n",
       "       -1.27859344,  0.11825827, -0.40824866,  0.71636773, -0.46309237,\n",
       "        1.15987426, -1.00163075, -0.24687764, -0.12080871, -0.29985752,\n",
       "        0.00901283,  0.76016422, -1.13980996,  0.06895654,  1.40429811])"
      ]
     },
     "execution_count": 30,
     "metadata": {},
     "output_type": "execute_result"
    }
   ],
   "source": [
    "c3.set_W_b(c3_w_inital, c3_bias_inital)\n",
    "B3, ave3=c3.get_batch_weights()\n",
    "\n",
    "B3"
   ]
  },
  {
   "cell_type": "code",
   "execution_count": 31,
   "id": "a0189f3f-5b8e-4482-9f8e-92d62e650bd5",
   "metadata": {},
   "outputs": [
    {
     "data": {
      "text/plain": [
       "0.1408493470830271"
      ]
     },
     "execution_count": 31,
     "metadata": {},
     "output_type": "execute_result"
    }
   ],
   "source": [
    "c3.predict_test(B3)"
   ]
  },
  {
   "cell_type": "markdown",
   "id": "3bbdbc13-253c-4472-8e18-2b7b01ab574c",
   "metadata": {},
   "source": [
    "# Aggregate B"
   ]
  },
  {
   "cell_type": "code",
   "execution_count": 1002,
   "id": "9d6235e2-3097-42df-b531-e28cff49e578",
   "metadata": {},
   "outputs": [
    {
     "data": {
      "text/plain": [
       "array([-3.13612428e+01,  5.65583947e+05, -5.95819409e+05,  3.86999273e+05,\n",
       "       -5.94150522e+05, -5.91280607e+05,  5.00308952e+05, -5.96011820e+05,\n",
       "       -5.43786069e+05, -4.47821590e+05, -5.89625160e+05,  3.25578281e+05,\n",
       "       -5.80974181e+05, -5.78295073e+05, -5.89634953e+05, -4.84358488e+05,\n",
       "       -5.87855165e+05, -5.82835597e+05, -5.89534954e+05, -5.00779509e+05])"
      ]
     },
     "execution_count": 1002,
     "metadata": {},
     "output_type": "execute_result"
    }
   ],
   "source": [
    "average_matrices(B1,B2,B3)"
   ]
  },
  {
   "cell_type": "code",
   "execution_count": null,
   "id": "9ad2d7b7-7ad4-4403-b312-be4f48299b13",
   "metadata": {},
   "outputs": [],
   "source": []
  }
 ],
 "metadata": {
  "kernelspec": {
   "display_name": "Python 3 (ipykernel)",
   "language": "python",
   "name": "python3"
  },
  "language_info": {
   "codemirror_mode": {
    "name": "ipython",
    "version": 3
   },
   "file_extension": ".py",
   "mimetype": "text/x-python",
   "name": "python",
   "nbconvert_exporter": "python",
   "pygments_lexer": "ipython3",
   "version": "3.9.12"
  }
 },
 "nbformat": 4,
 "nbformat_minor": 5
}
