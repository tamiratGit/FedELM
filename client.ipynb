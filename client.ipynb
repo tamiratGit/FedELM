{
 "cells": [
  {
   "cell_type": "markdown",
   "id": "7c66ad20-0cd7-4c56-80b5-de2ba68a720a",
   "metadata": {},
   "source": [
    "Math shared by all implementations\n",
    "\n",
    "All implementations have the fundamental bits:\n",
    "\n",
    "input matrix X of size [num_samples, num_features]\n",
    "\n",
    "output matrix y of size [num_samples, num_outputs]\n",
    "\n",
    "projection matrix W of size [num_features, num_neurons]\n",
    "\n",
    "non-linear tranformation function ufunc like hyperbolic tangent (np.tanh), sigmoid, or any other\n",
    "\n",
    "output weights B of size [num_neurons, num_outputs]\n",
    "\n",
    "optional output bias/intercept of size [num_outputs, ]\n"
   ]
  },
  {
   "cell_type": "code",
   "execution_count": 513,
   "id": "8d805f92-bedb-4c30-adc3-ef56e729934b",
   "metadata": {},
   "outputs": [],
   "source": [
    "import numpy as np\n",
    "import pandas  as pd\n",
    "from sklearn.datasets import fetch_california_housing\n",
    "from sklearn.model_selection import train_test_split\n",
    "from sklearn.preprocessing import StandardScaler\n",
    "from sklearn.preprocessing import RobustScaler\n",
    "from sklearn.metrics import mean_squared_error,r2_score\n",
    "import matplotlib.pyplot as plt\n",
    "from scipy import linalg\n",
    "from math import sqrt"
   ]
  },
  {
   "cell_type": "code",
   "execution_count": 514,
   "id": "fe989e5c-8f0e-4539-b04e-09935223c630",
   "metadata": {},
   "outputs": [],
   "source": [
    "class clientClass:\n",
    "   \n",
    "    def __init__(self,client_id,batch_size,h_neurons=20, alpha=0.001):\n",
    "        \n",
    "        self.i=client_id\n",
    "        cl= np.load(f\"client{self.i}.npz\")\n",
    "\n",
    "        if client_id == 1:\n",
    "            n = 100\n",
    "        elif client_id == 2:\n",
    "            n = 1000\n",
    "        else:\n",
    "            n = 10000\n",
    "            \n",
    "        \n",
    "        X_t = cl[f\"X_a{self.i}_sc\"][:n]\n",
    "        X_s = cl[f\"X_a{self.i}_sc\"][n:]\n",
    "        y_t = cl[f\"y_a{self.i}\"][:n]\n",
    "        y_s = cl[f\"y_a{self.i}\"][n:]\n",
    "\n",
    "           \n",
    "        self.input_size = len(X_t)\n",
    "        self.n_features = len(X_t[1])\n",
    "        self.h_neurons=h_neurons\n",
    "        self.w = None\n",
    "        self.b = None\n",
    "        self.batch_size=batch_size\n",
    "        self.reg_term = np.eye(self.h_neurons) * alpha\n",
    "        self.X_t = X_t\n",
    "        self.X_s = X_s\n",
    "        self.y_t = y_t\n",
    "        self.y_s = y_s\n",
    "          \n",
    "            \n",
    "    def get_Nfs(self):\n",
    "        return self.input_size, self.n_features\n",
    "    \n",
    "    def set_W_b(self,w,b):\n",
    "        self.w=w\n",
    "        self.b=b  \n",
    "    \n",
    "    def batches(self):\n",
    "        \n",
    "        batch_X=[]\n",
    "        batch_y=[]\n",
    "        \n",
    "        if self.batch_size >= self.input_size:\n",
    "            batch_X.append(self.X_t)\n",
    "            batch_y.append(self.y_t)\n",
    "             \n",
    "        else:\n",
    "            for i in range (0, self.input_size , self.batch_size):\n",
    "                batch_X.append(self.X_t[i:i + self.batch_size-1])\n",
    "                batch_y.append(self.y_t[i:i + self.batch_size-1])\n",
    "            \n",
    "        for X,y in zip(batch_X,batch_y): \n",
    "            \n",
    "             # Compute the hidden layer output \n",
    "            H = np.tanh(np.dot(X, self.w) + self.b)  # Apply activation function (tanh)\n",
    "\n",
    "            HTH = H.T @ H + self.reg_term\n",
    "            HTy = H.T @ y\n",
    "              \n",
    "            yield HTH, HTy               \n",
    "   \n",
    "    def predict_test(self, B):\n",
    "                                    \n",
    "        # Calculate the predicted output on the testing set\n",
    "        H_test = np.tanh(np.dot(self.X_s, self.w) + self.b)\n",
    "        pred_test = np.dot(H_test, B)\n",
    "        r2 = r2_score(self.y_s, pred_test)\n",
    "        return r2\n"
   ]
  },
  {
   "cell_type": "code",
   "execution_count": 515,
   "id": "acbff18e-fdce-48e2-a5b3-4f1bd9fd2716",
   "metadata": {},
   "outputs": [],
   "source": [
    "\n",
    "\n",
    "def par_B(cl1,cl2,cl3):\n",
    "    # Perform some operation using a for loop\n",
    "    # combine some client data\n",
    "    clients = [cl1, cl2, cl3]\n",
    "    HtH1 = None\n",
    "    HtY1 = None\n",
    "    Bd1={}\n",
    "    B1=[]\n",
    "    Bd=[]\n",
    "\n",
    "    for client in clients:\n",
    "        sample, c_nf= client.get_Nfs()\n",
    "        w_inital = np.random.rand(c_nf, hidden_size)\n",
    "        bias_inital = np.random.rand(hidden_size)\n",
    "        #print(w_inital)\n",
    "\n",
    "        client.set_W_b(w_inital, bias_inital)\n",
    "        data = client.batches()\n",
    "\n",
    "        for hth, hty in data:\n",
    "\n",
    "            HtH1 = hth\n",
    "            HtY1 = hty\n",
    "\n",
    "            #print(f\"Client   : {client.get_Nfs()}\")\n",
    "            Bd.append(np.linalg.solve(HtH1, HtY1))\n",
    "            #print(f\"Bd: {Bd}\")\n",
    "        Bd1[client.i] = Bd \n",
    "        Bd=[]\n",
    "\n",
    "    return Bd1"
   ]
  },
  {
   "cell_type": "code",
   "execution_count": 516,
   "id": "4dea741b-83b8-4bf7-9fc0-4fe42ae61460",
   "metadata": {},
   "outputs": [],
   "source": [
    "# I am a server now\n",
    "# initialize ELM parameters shared among clients\n",
    "\n",
    "hidden_size=20\n",
    "\n",
    "# initialize clients, server sends ELM parameters to clients\n",
    "cl1 = clientClass(1, batch_size=100, h_neurons=hidden_size, alpha=0.001)\n",
    "cl2 = clientClass(2, batch_size=300, h_neurons=hidden_size, alpha=0.001)\n",
    "cl3 = clientClass(3, batch_size=1000, h_neurons=hidden_size, alpha=0.001)\n",
    "\n",
    "#cl1_input_size,cl1_n_features =cl1.get_Nfs()\n",
    "#cl2_input_size,cl2_n_features =cl2.get_Nfs()\n",
    "#cl3_input_size,cl3_n_features =cl3.get_Nfs()\n",
    "\n",
    "input_size=8\n",
    "w_inital = np.random.rand(input_size, hidden_size)\n",
    "bias_inital = np.random.rand(hidden_size)\n",
    "\n",
    "clients = [cl1, cl2, cl3]\n",
    "cl1.set_W_b(w_inital, bias_inital)\n",
    "cl2.set_W_b(w_inital, bias_inital)\n",
    "cl3.set_W_b(w_inital, bias_inital)\n"
   ]
  },
  {
   "cell_type": "code",
   "execution_count": 517,
   "id": "d468e830-ab2c-4124-8bbd-3762c165ea3f",
   "metadata": {},
   "outputs": [],
   "source": [
    "def average_matrices_Sl(matrix1):\n",
    "    # Check if the matrices have the same shape\n",
    "    if len(matrix1) == 0:\n",
    "        return None  # Handle the case of an empty list\n",
    "    average_matrix = sum(matrix1 ) / len(matrix1)\n",
    "    return average_matrix\n",
    "    "
   ]
  },
  {
   "cell_type": "code",
   "execution_count": 595,
   "id": "13b67fb7-2d2c-488f-9a5c-4985c2ba090d",
   "metadata": {},
   "outputs": [],
   "source": [
    "def global_B(B):\n",
    "    ave_client123=[]\n",
    "    for i in range(1,len(B)+1):\n",
    "        print(f\"Client_{i}\")\n",
    "        ave_client123.append(average_matrices_Sl(B[i]))\n",
    "        print(f\"{average_matrices_Sl(B_1i[i])}\")\n",
    "        print()\n",
    "    print(f\"global_B: {average_matrices_Sl(ave_client123)}\")\n",
    "    return average_matrices_Sl(ave_client123)\n",
    "\n"
   ]
  },
  {
   "cell_type": "code",
   "execution_count": null,
   "id": "ca7d814f-d770-4091-a791-6f81907186d0",
   "metadata": {},
   "outputs": [],
   "source": []
  },
  {
   "cell_type": "code",
   "execution_count": 596,
   "id": "f8276ec9-da36-44de-bffc-073b0fce3440",
   "metadata": {},
   "outputs": [],
   "source": [
    "B_1i=par_B(cl1,cl2,cl3)"
   ]
  },
  {
   "cell_type": "code",
   "execution_count": 597,
   "id": "723ddfc3-4825-4be4-9e7e-eccb7b24a21d",
   "metadata": {},
   "outputs": [
    {
     "data": {
      "text/plain": [
       "{1: [array([-1.03621715,  3.35771644,  0.90983135,  0.08746734,  0.55120982,\n",
       "          0.70208885,  0.28002474, -0.98793492, -1.18641596, -0.60534182,\n",
       "         -0.37784304, -0.94961194, -0.43184936, -0.60853668,  1.29557916,\n",
       "          0.64490891, -1.34905212, -0.00747328, -0.17215557,  0.317743  ])],\n",
       " 2: [array([ 0.47924513, -2.85576855,  0.37706179,  0.84327277,  1.45157396,\n",
       "          3.01046342, -2.3477088 , -3.62104037, -0.410038  ,  0.34219976,\n",
       "          0.15277389,  2.58398422,  0.19015596, -1.29229265, -1.15419647,\n",
       "          2.54481009,  0.04520338,  0.16167391, -0.26929891, -1.61719079]),\n",
       "  array([ 0.50740823,  1.3051313 , -0.29491174, -0.70669717,  0.92440962,\n",
       "         -1.33006819, -0.58108266, -0.28488152,  0.46787198,  0.58413759,\n",
       "         -0.17352582,  0.00361403,  1.10680242, -0.78059342, -1.45255798,\n",
       "          0.25564221,  0.10632179, -0.80470159,  0.03856042, -0.30359351]),\n",
       "  array([ 0.55336842,  0.66822395,  0.96933643,  1.19457895,  0.26843029,\n",
       "          0.26265511,  2.23115829,  0.98550814,  0.32391654,  3.27232963,\n",
       "         -0.1840606 , -1.19509928,  0.79240701, -0.73897645, -1.07309533,\n",
       "         -2.03534462, -1.27857954, -0.53991849,  0.11167458, -6.03609919]),\n",
       "  array([ 0.32219781,  2.98442135, -0.42007873, -1.00953113,  0.92338699,\n",
       "         -0.6333764 , -1.04236947, -1.04940047,  0.17040444,  4.94832882,\n",
       "         -0.15308062,  0.79240279,  0.64625032, -1.67705919, -1.57568399,\n",
       "         -1.0494975 , -4.32595596, -0.40681096, -0.8693061 , -0.52313178])],\n",
       " 3: [array([-1.22324897,  0.48951407, -0.10100565, -1.46595648,  0.32312827,\n",
       "         -0.34186551,  0.0591592 , -0.00188884, -0.19499937,  0.27254341,\n",
       "          0.02831057, -0.10365262, -0.25259651,  0.09271748, -0.88666908,\n",
       "          0.08701491,  0.46271164,  0.57291367,  0.7859551 ,  0.2390443 ]),\n",
       "  array([-0.66506646, -0.07900877,  0.16521712, -0.54046606, -0.32492781,\n",
       "          0.00200822, -0.51443995, -0.18219801, -0.86762459,  0.57062584,\n",
       "          0.15951016, -0.11255943, -0.42664211,  0.32243678, -0.8037682 ,\n",
       "          0.10507974,  1.2482032 , -0.17384576,  1.06544646,  0.99851746]),\n",
       "  array([-0.35645116,  0.03690659, -0.04678127, -0.08588522,  0.0520154 ,\n",
       "         -0.0060812 , -0.23799656,  0.01694145, -0.14297756,  0.3358529 ,\n",
       "         -0.64269055, -0.04334234,  0.01048456,  0.02884124, -0.24710938,\n",
       "          0.09098561,  0.11720072,  0.25136861,  0.22434444,  0.12326448]),\n",
       "  array([-1.49015387, -0.0594274 , -0.1829938 , -0.00954139,  0.65542286,\n",
       "         -0.89737281, -0.28638558, -0.31281349,  0.18202913,  0.95341299,\n",
       "         -2.0559341 , -0.28313625, -0.038683  ,  0.51321791, -1.78690497,\n",
       "          0.84434684,  0.31560874,  0.73756643,  1.67237358, -0.18724439]),\n",
       "  array([ 0.51675973,  0.4437806 , -0.31326959,  1.30931563, -2.36054704,\n",
       "         -0.79115813, -0.45608428, -0.07830797,  0.04788732,  0.76540624,\n",
       "         -2.74053848,  0.20522382, -0.36483373, -1.05724119,  1.21411203,\n",
       "          0.14177638,  0.97237244,  1.53060102, -1.2471062 , -0.21545441]),\n",
       "  array([-1.21878199e-01, -8.99422102e-02, -4.98562748e-01,  1.22032039e+00,\n",
       "         -9.14513512e-01, -6.53360065e-01, -4.54455801e-01, -1.00695876e-01,\n",
       "          9.44613258e-02,  9.47021645e-01, -3.55646121e+00, -7.83874508e-04,\n",
       "         -6.32092138e-02, -3.42520386e-01, -1.88692448e-01,  2.31900072e-01,\n",
       "          4.37390170e-01,  1.19509479e+00,  3.55904914e-01,  5.30971265e-02]),\n",
       "  array([ 0.32676529,  1.38620027, -0.31567478, -0.52257305, -0.15730807,\n",
       "         -0.4982005 , -0.03393107, -0.14622582,  0.07517907,  1.17669465,\n",
       "         -2.68506678,  0.19955306, -0.25243175, -0.78397807, -0.98614845,\n",
       "          0.17888621,  0.48161682,  0.75605574, -0.13652693,  0.06583805]),\n",
       "  array([-3.03215303e+00, -3.58992447e-01, -4.30089303e-01, -3.03592876e+00,\n",
       "          5.78766333e+00, -8.55729640e-01, -3.25708820e-01,  1.18339897e-03,\n",
       "         -9.83801400e-02,  1.46000428e+00, -3.06081621e+00, -2.41893879e-01,\n",
       "         -1.11335552e-01, -3.41516093e-01, -1.79242815e+00,  4.27874599e-01,\n",
       "          5.92949798e-01,  1.11328156e+00,  2.21026540e+00,  2.77387069e-01]),\n",
       "  array([-0.52084695,  0.12610932, -0.46072072, -1.11130342, -0.02538977,\n",
       "         -0.51226188, -0.95125095,  0.25468145, -0.31160413,  0.97716941,\n",
       "         -0.57441266, -0.48396308, -0.07916248,  0.4486249 , -1.11145159,\n",
       "          0.39356192,  1.42209649,  0.04188487,  0.92006329,  0.08410843]),\n",
       "  array([-0.45399246, -0.08500669, -0.13570703, -0.42150125,  0.1102489 ,\n",
       "          0.24653249, -0.8498924 ,  0.009748  , -1.3929468 ,  0.24421013,\n",
       "         -0.14257499, -0.3140688 ,  0.21014305,  0.50803968, -0.18334952,\n",
       "          0.76059271,  1.38052214, -0.18027774,  0.02301225,  0.45910005])]}"
      ]
     },
     "execution_count": 597,
     "metadata": {},
     "output_type": "execute_result"
    }
   ],
   "source": [
    "B_1i"
   ]
  },
  {
   "cell_type": "code",
   "execution_count": 598,
   "id": "8722a639-3bbb-4b9f-a66b-a256e464403d",
   "metadata": {},
   "outputs": [
    {
     "name": "stdout",
     "output_type": "stream",
     "text": [
      "Client_1\n",
      "[-1.03621715  3.35771644  0.90983135  0.08746734  0.55120982  0.70208885\n",
      "  0.28002474 -0.98793492 -1.18641596 -0.60534182 -0.37784304 -0.94961194\n",
      " -0.43184936 -0.60853668  1.29557916  0.64490891 -1.34905212 -0.00747328\n",
      " -0.17215557  0.317743  ]\n",
      "\n",
      "Client_2\n",
      "[ 0.4655549   0.52550201  0.15785194  0.08040586  0.89195021  0.32741848\n",
      " -0.43500066 -0.99245356  0.13803874  2.28674895 -0.08947329  0.54622544\n",
      "  0.68390393 -1.12223043 -1.31388344 -0.07109745 -1.36325258 -0.39743928\n",
      " -0.2470925  -2.12000381]\n",
      "\n",
      "Client_3\n",
      "[-0.70202661  0.18101333 -0.23195878 -0.46635196  0.31457925 -0.4307489\n",
      " -0.40509862 -0.05395757 -0.26089757  0.77029415 -1.52706743 -0.11786234\n",
      " -0.13682668 -0.06113777 -0.67724098  0.3262019   0.74306722  0.58446432\n",
      "  0.58737323  0.18976582]\n",
      "\n",
      "global_B: [-0.42422962  1.35474393  0.27857484 -0.09949292  0.5859131   0.19958615\n",
      " -0.18669151 -0.67811535 -0.43642493  0.81723376 -0.66479458 -0.17374961\n",
      "  0.0384093  -0.59730163 -0.23184842  0.30000445 -0.6564125   0.05985059\n",
      "  0.05604172 -0.53749833]\n"
     ]
    }
   ],
   "source": [
    "g_B_it1=global_B(B_1i)"
   ]
  },
  {
   "cell_type": "code",
   "execution_count": 599,
   "id": "766ff939-342e-45e1-b14e-8b7a00f91cd3",
   "metadata": {},
   "outputs": [
    {
     "data": {
      "text/plain": [
       "array([-0.42422962,  1.35474393,  0.27857484, -0.09949292,  0.5859131 ,\n",
       "        0.19958615, -0.18669151, -0.67811535, -0.43642493,  0.81723376,\n",
       "       -0.66479458, -0.17374961,  0.0384093 , -0.59730163, -0.23184842,\n",
       "        0.30000445, -0.6564125 ,  0.05985059,  0.05604172, -0.53749833])"
      ]
     },
     "execution_count": 599,
     "metadata": {},
     "output_type": "execute_result"
    }
   ],
   "source": [
    "g_B_it1"
   ]
  },
  {
   "cell_type": "code",
   "execution_count": null,
   "id": "a26d80d8-08cf-4dd0-be6b-d7966911ff17",
   "metadata": {},
   "outputs": [],
   "source": []
  },
  {
   "cell_type": "code",
   "execution_count": 583,
   "id": "4a0f7270-c177-4260-97c7-53b4fadfd99c",
   "metadata": {},
   "outputs": [
    {
     "data": {
      "text/plain": [
       "-52.453824598204484"
      ]
     },
     "execution_count": 583,
     "metadata": {},
     "output_type": "execute_result"
    }
   ],
   "source": [
    "r2_it1=cl1.predict_test(g_B_it1)\n",
    "r2_it1"
   ]
  },
  {
   "cell_type": "code",
   "execution_count": 584,
   "id": "ade8088a-0c3b-48a0-adfb-575f1e7bd071",
   "metadata": {},
   "outputs": [
    {
     "data": {
      "text/plain": [
       "-8.64636573331588"
      ]
     },
     "execution_count": 584,
     "metadata": {},
     "output_type": "execute_result"
    }
   ],
   "source": [
    "r2_it2=cl2.predict_test(g_B_it1)\n",
    "r2_it2"
   ]
  },
  {
   "cell_type": "code",
   "execution_count": 575,
   "id": "4ff574ed-29b6-4a31-a7b7-2eb95635d260",
   "metadata": {},
   "outputs": [
    {
     "data": {
      "text/plain": [
       "-0.46851009721826054"
      ]
     },
     "execution_count": 575,
     "metadata": {},
     "output_type": "execute_result"
    }
   ],
   "source": [
    "r2_it3=cl3.predict_test(g_B_it1)\n",
    "r2_it3"
   ]
  },
  {
   "cell_type": "code",
   "execution_count": null,
   "id": "70409658-5c28-4ca9-a46d-71fd18ed9f7b",
   "metadata": {},
   "outputs": [],
   "source": []
  },
  {
   "cell_type": "code",
   "execution_count": null,
   "id": "9eedda44-dfbb-44a5-bef3-eddd86c9aab0",
   "metadata": {},
   "outputs": [],
   "source": []
  }
 ],
 "metadata": {
  "kernelspec": {
   "display_name": "Python 3 (ipykernel)",
   "language": "python",
   "name": "python3"
  },
  "language_info": {
   "codemirror_mode": {
    "name": "ipython",
    "version": 3
   },
   "file_extension": ".py",
   "mimetype": "text/x-python",
   "name": "python",
   "nbconvert_exporter": "python",
   "pygments_lexer": "ipython3",
   "version": "3.9.12"
  }
 },
 "nbformat": 4,
 "nbformat_minor": 5
}
