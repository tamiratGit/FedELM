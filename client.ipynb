{
 "cells": [
  {
   "cell_type": "markdown",
   "id": "7c66ad20-0cd7-4c56-80b5-de2ba68a720a",
   "metadata": {},
   "source": [
    "Math shared by all implementations\n",
    "\n",
    "All implementations have the fundamental bits:\n",
    "\n",
    "input matrix X of size [num_samples, num_features]\n",
    "\n",
    "output matrix y of size [num_samples, num_outputs]\n",
    "\n",
    "projection matrix W of size [num_features, num_neurons]\n",
    "\n",
    "non-linear tranformation function ufunc like hyperbolic tangent (np.tanh), sigmoid, or any other\n",
    "\n",
    "output weights B of size [num_neurons, num_outputs]\n",
    "\n",
    "optional output bias/intercept of size [num_outputs, ]\n"
   ]
  },
  {
   "cell_type": "code",
   "execution_count": 381,
   "id": "8d805f92-bedb-4c30-adc3-ef56e729934b",
   "metadata": {},
   "outputs": [],
   "source": [
    "import numpy as np\n",
    "import pandas  as pd\n",
    "from sklearn.datasets import fetch_california_housing\n",
    "from sklearn.model_selection import train_test_split\n",
    "from sklearn.preprocessing import StandardScaler\n",
    "from sklearn.preprocessing import RobustScaler\n",
    "from sklearn.metrics import mean_squared_error,r2_score\n",
    "import matplotlib.pyplot as plt\n",
    "from scipy import linalg\n",
    "from math import sqrt"
   ]
  },
  {
   "cell_type": "code",
   "execution_count": 382,
   "id": "fe989e5c-8f0e-4539-b04e-09935223c630",
   "metadata": {},
   "outputs": [],
   "source": [
    "class clientClass:\n",
    "   \n",
    "    def __init__(self,client_id,batch_size,h_neurons=20, alpha=0.001):\n",
    "        \n",
    "        self.i=client_id\n",
    "        cl= np.load(f\"client{self.i}.npz\")\n",
    "\n",
    "        if client_id == 1:\n",
    "            n = 100\n",
    "        elif client_id == 2:\n",
    "            n = 1000\n",
    "        else:\n",
    "            n = 10000\n",
    "            \n",
    "        \n",
    "        X_t = cl[f\"X_a{self.i}_sc\"][:n]\n",
    "        X_s = cl[f\"X_a{self.i}_sc\"][n:]\n",
    "        y_t = cl[f\"y_a{self.i}\"][:n]\n",
    "        y_s = cl[f\"y_a{self.i}\"][n:]\n",
    "\n",
    "           \n",
    "        self.input_size = len(X_t)\n",
    "        self.n_features = len(X_t[1])\n",
    "        self.h_neurons=h_neurons\n",
    "        self.w = None\n",
    "        self.b = None\n",
    "        self.batch_size=batch_size\n",
    "        self.reg_term = np.eye(self.h_neurons) * alpha\n",
    "        self.X_t = X_t\n",
    "        self.X_s = X_s\n",
    "        self.y_t = y_t\n",
    "        self.y_s = y_s\n",
    "          \n",
    "            \n",
    "    def get_Nfs(self):\n",
    "        return self.input_size, self.n_features\n",
    "    \n",
    "    def set_W_b(self,w,b):\n",
    "        self.w=w\n",
    "        self.b=b  \n",
    "    \n",
    "    def batches(self):\n",
    "        \n",
    "        batch_X=[]\n",
    "        batch_y=[]\n",
    "        \n",
    "        if self.batch_size >= self.input_size:\n",
    "            batch_X.append(self.X_t)\n",
    "            batch_y.append(self.y_t)\n",
    "             \n",
    "        else:\n",
    "            for i in range (0, self.input_size , self.batch_size):\n",
    "                batch_X.append(self.X_t[i:i + self.batch_size-1])\n",
    "                batch_y.append(self.y_t[i:i + self.batch_size-1])\n",
    "            \n",
    "        for X,y in zip(batch_X,batch_y): \n",
    "            \n",
    "             # Compute the hidden layer output \n",
    "            H = np.tanh(np.dot(X, self.w) + self.b)  # Apply activation function (tanh)\n",
    "\n",
    "            HTH = H.T @ H + self.reg_term\n",
    "            HTy = H.T @ y\n",
    "              \n",
    "            yield HTH, HTy               \n",
    "   \n",
    "    def predict_test(self, B):\n",
    "                                    \n",
    "        # Calculate the predicted output on the testing set\n",
    "        H_test = np.tanh(np.dot(self.X_s, self.w) + self.b)\n",
    "        pred_test = np.dot(H_test, B)\n",
    "        r2 = r2_score(self.y_s, pred_test)\n",
    "        return r2\n"
   ]
  },
  {
   "cell_type": "code",
   "execution_count": 383,
   "id": "acbff18e-fdce-48e2-a5b3-4f1bd9fd2716",
   "metadata": {},
   "outputs": [],
   "source": [
    "\n",
    "\n",
    "def par_B(cl1,cl2,cl3):\n",
    "    # Perform some operation using a for loop\n",
    "    # combine some client data\n",
    "    clients = [cl1, cl2, cl3]\n",
    "    HtH1 = None\n",
    "    HtY1 = None\n",
    "    Bd1={}\n",
    "    B1=[]\n",
    "    Bd=[]\n",
    "\n",
    "    for client in clients:\n",
    "        sample, c_nf= client.get_Nfs()\n",
    "        w_inital = np.random.rand(c_nf, hidden_size)\n",
    "        bias_inital = np.random.rand(hidden_size)\n",
    "        #print(w_inital)\n",
    "\n",
    "        client.set_W_b(w_inital, bias_inital)\n",
    "        data = client.batches()\n",
    "\n",
    "        for hth, hty in data:\n",
    "\n",
    "            HtH1 = hth\n",
    "            HtY1 = hty\n",
    "\n",
    "            #print(f\"Client   : {client.get_Nfs()}\")\n",
    "            Bd.append(np.linalg.solve(HtH1, HtY1))\n",
    "            #print(f\"Bd: {Bd}\")\n",
    "        Bd1[client.i] = Bd \n",
    "        Bd=[]\n",
    "\n",
    "    return Bd1"
   ]
  },
  {
   "cell_type": "code",
   "execution_count": 384,
   "id": "d468e830-ab2c-4124-8bbd-3762c165ea3f",
   "metadata": {},
   "outputs": [],
   "source": [
    "def average_matrices_Sl(matrix1):\n",
    "    # Check if the matrices have the same shape\n",
    "    if len(matrix1) == 0:\n",
    "        return None  # Handle the case of an empty list\n",
    "    average_matrix = sum(matrix1 ) / len(matrix1)\n",
    "    return average_matrix\n",
    "    "
   ]
  },
  {
   "cell_type": "code",
   "execution_count": 385,
   "id": "4dea741b-83b8-4bf7-9fc0-4fe42ae61460",
   "metadata": {},
   "outputs": [],
   "source": [
    "# I am a server now\n",
    "\n",
    "# initialize ELM parameters shared among clients\n",
    "\n",
    "hidden_size=20\n",
    "\n",
    "\n",
    "# initialize clients, server sends ELM parameters to clients\n",
    "cl1 = clientClass(1, batch_size=100, h_neurons=hidden_size, alpha=0.001)\n",
    "cl2 = clientClass(2, batch_size=300, h_neurons=hidden_size, alpha=0.001)\n",
    "cl3 = clientClass(3, batch_size=1000, h_neurons=hidden_size, alpha=0.001)\n",
    "\n",
    "#cl1_input_size,cl1_n_features =cl1.get_Nfs()\n",
    "#cl2_input_size,cl2_n_features =cl2.get_Nfs()\n",
    "#cl3_input_size,cl3_n_features =cl3.get_Nfs()\n",
    "\n",
    "input_size=8\n",
    "w_inital = np.random.rand(input_size, hidden_size)\n",
    "bias_inital = np.random.rand(hidden_size)\n",
    "\n",
    "clients = [cl1, cl2, cl3]\n",
    "cl1.set_W_b(w_inital, bias_inital)\n",
    "cl2.set_W_b(w_inital, bias_inital)\n",
    "cl3.set_W_b(w_inital, bias_inital)\n"
   ]
  },
  {
   "cell_type": "code",
   "execution_count": 386,
   "id": "f8276ec9-da36-44de-bffc-073b0fce3440",
   "metadata": {},
   "outputs": [],
   "source": [
    "B_1i=par_B(cl1,cl2,cl3)"
   ]
  },
  {
   "cell_type": "code",
   "execution_count": 387,
   "id": "13b67fb7-2d2c-488f-9a5c-4985c2ba090d",
   "metadata": {},
   "outputs": [
    {
     "name": "stdout",
     "output_type": "stream",
     "text": [
      "Client_1\n",
      "[ 0.0018309   0.27366645 -0.18269487  1.41177489  0.88816717  0.6132533\n",
      " -0.37452951  0.368464   -1.15809518 -0.35156554 -0.72861862 -0.3855515\n",
      " -0.31425373 -0.39655482  0.43294479  0.16527108  0.18453703 -0.11564701\n",
      "  0.31746233 -0.02950896]\n",
      "Client_2\n",
      "[ 0.78123382 -0.15824864 -0.28775314 -0.18833118  1.2281139  -0.18161286\n",
      "  0.95770778 -0.50357389 -1.27350353 -2.36275568 -1.54712132  0.11531156\n",
      "  0.38576782  0.26970708 -0.17034188 -0.61024616 -0.32149112  0.31275882\n",
      "  1.51808734  0.32527513]\n",
      "Client_3\n",
      "[ 1.8340578  -0.36727843 -0.13997193 -0.38703397  0.01855467 -0.1704152\n",
      " -0.47306788  1.37956307  0.03873956  1.06054508 -0.29100606 -0.15156306\n",
      " -0.05915995 -0.3641569  -2.16116788  0.70998747 -0.70654386 -0.79166136\n",
      " -0.29166051 -0.04094877]\n"
     ]
    }
   ],
   "source": [
    "for i in range(1,len(B_1i)+1):\n",
    "    print(f\"Client_{i}\")\n",
    "    print(f\"{average_matrices_Sl(B_1i[i])}\"  )"
   ]
  },
  {
   "cell_type": "code",
   "execution_count": null,
   "id": "d733d6b2-053d-401a-88aa-0e294ac01594",
   "metadata": {},
   "outputs": [],
   "source": []
  },
  {
   "cell_type": "code",
   "execution_count": null,
   "id": "ed42687e-33e1-41d0-a89e-a79ff69f57ba",
   "metadata": {},
   "outputs": [],
   "source": []
  },
  {
   "cell_type": "code",
   "execution_count": 388,
   "id": "559df8a6-848b-4e42-adc2-1ebcbdbcea95",
   "metadata": {},
   "outputs": [
    {
     "name": "stdout",
     "output_type": "stream",
     "text": [
      "next batch\n"
     ]
    }
   ],
   "source": [
    "# combine some client data\n",
    "\n",
    "B11=[]\n",
    "for hth, hty in cl1.batches():\n",
    "    print(\"next batch\")\n",
    "    \n",
    "    HtH11 = hth\n",
    "    HtY11 = hty\n",
    "    B11.append(np.linalg.solve(HtH11, HtY11)) \n",
    "    # ... ask client to compute their performance ....\n",
    "    #r2_cl1 = cl1.predict_test(B1)"
   ]
  },
  {
   "cell_type": "code",
   "execution_count": 389,
   "id": "3d421c32-f629-4ed7-9942-7eaf03a797ea",
   "metadata": {},
   "outputs": [
    {
     "name": "stdout",
     "output_type": "stream",
     "text": [
      "next batch\n",
      "next batch\n",
      "next batch\n",
      "next batch\n"
     ]
    }
   ],
   "source": [
    "B22=[]\n",
    "\n",
    "for hth, hty in cl2.batches():\n",
    "    print(\"next batch\")\n",
    "    HtH22 = hth\n",
    "    HtY22 = hty\n",
    "    B22.append(np.linalg.solve(HtH22, HtY22))\n",
    "    # ... ask client to compute their performance ....\n",
    "\n",
    "     #r2_cl2 = cl1.predict_test(B2)"
   ]
  },
  {
   "cell_type": "code",
   "execution_count": 390,
   "id": "cc411a14-558e-4e5f-863d-c93d885adb14",
   "metadata": {},
   "outputs": [
    {
     "name": "stdout",
     "output_type": "stream",
     "text": [
      "next batch\n",
      "next batch\n",
      "next batch\n",
      "next batch\n",
      "next batch\n",
      "next batch\n",
      "next batch\n",
      "next batch\n",
      "next batch\n",
      "next batch\n"
     ]
    }
   ],
   "source": [
    "B33 = []\n",
    "for hth, hty in cl3.batches():\n",
    "    print(\"next batch\")\n",
    "    HtH33 = hth\n",
    "    HtY33 = hty\n",
    "  \n",
    "    B33.append(np.linalg.solve(HtH33, HtY33))\n",
    "   \n",
    "    # ... ask client to compute their performance ....\n",
    "     #r2_cl3 = cl1.predict_test(B3)\n",
    "\n",
    "\n"
   ]
  },
  {
   "cell_type": "code",
   "execution_count": 391,
   "id": "addaaf46-bf91-4a9f-aef6-4d0ce1f9d63d",
   "metadata": {},
   "outputs": [
    {
     "data": {
      "text/plain": [
       "array([ 0.0018309 ,  0.27366645, -0.18269487,  1.41177489,  0.88816717,\n",
       "        0.6132533 , -0.37452951,  0.368464  , -1.15809518, -0.35156554,\n",
       "       -0.72861862, -0.3855515 , -0.31425373, -0.39655482,  0.43294479,\n",
       "        0.16527108,  0.18453703, -0.11564701,  0.31746233, -0.02950896])"
      ]
     },
     "execution_count": 391,
     "metadata": {},
     "output_type": "execute_result"
    }
   ],
   "source": [
    "average_matrices_Sl(B_1i[1])"
   ]
  },
  {
   "cell_type": "code",
   "execution_count": null,
   "id": "d61e198a-9100-4ae4-8942-af4f63f801a1",
   "metadata": {},
   "outputs": [],
   "source": []
  },
  {
   "cell_type": "code",
   "execution_count": null,
   "id": "7bf5e421-8d98-4620-8e16-07650f523a69",
   "metadata": {},
   "outputs": [],
   "source": []
  },
  {
   "cell_type": "code",
   "execution_count": null,
   "id": "9eedda44-dfbb-44a5-bef3-eddd86c9aab0",
   "metadata": {},
   "outputs": [],
   "source": []
  }
 ],
 "metadata": {
  "kernelspec": {
   "display_name": "Python 3 (ipykernel)",
   "language": "python",
   "name": "python3"
  },
  "language_info": {
   "codemirror_mode": {
    "name": "ipython",
    "version": 3
   },
   "file_extension": ".py",
   "mimetype": "text/x-python",
   "name": "python",
   "nbconvert_exporter": "python",
   "pygments_lexer": "ipython3",
   "version": "3.9.12"
  }
 },
 "nbformat": 4,
 "nbformat_minor": 5
}
