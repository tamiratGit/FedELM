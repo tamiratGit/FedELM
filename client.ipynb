{
 "cells": [
  {
   "cell_type": "markdown",
   "id": "7c66ad20-0cd7-4c56-80b5-de2ba68a720a",
   "metadata": {},
   "source": [
    "Math shared by all implementations\n",
    "\n",
    "All implementations have the fundamental bits:\n",
    "\n",
    "input matrix X of size [num_samples, num_features]\n",
    "\n",
    "output matrix y of size [num_samples, num_outputs]\n",
    "\n",
    "projection matrix W of size [num_features, num_neurons]\n",
    "\n",
    "non-linear tranformation function ufunc like hyperbolic tangent (np.tanh), sigmoid, or any other\n",
    "\n",
    "output weights B of size [num_neurons, num_outputs]\n",
    "\n",
    "optional output bias/intercept of size [num_outputs, ]\n"
   ]
  },
  {
   "cell_type": "code",
   "execution_count": 600,
   "id": "8d805f92-bedb-4c30-adc3-ef56e729934b",
   "metadata": {},
   "outputs": [],
   "source": [
    "import numpy as np\n",
    "import pandas  as pd\n",
    "from sklearn.datasets import fetch_california_housing\n",
    "from sklearn.model_selection import train_test_split\n",
    "from sklearn.preprocessing import StandardScaler\n",
    "from sklearn.preprocessing import RobustScaler\n",
    "from sklearn.metrics import mean_squared_error,r2_score\n",
    "import matplotlib.pyplot as plt\n",
    "from scipy import linalg\n",
    "from math import sqrt"
   ]
  },
  {
   "cell_type": "code",
   "execution_count": 601,
   "id": "fe989e5c-8f0e-4539-b04e-09935223c630",
   "metadata": {},
   "outputs": [],
   "source": [
    "class clientClass:\n",
    "   \n",
    "    def __init__(self,client_id,batch_size,h_neurons=20, alpha=0.001):\n",
    "        \n",
    "        self.i=client_id\n",
    "        cl= np.load(f\"client{self.i}.npz\")\n",
    "\n",
    "        if client_id == 1:\n",
    "            n = 100\n",
    "        elif client_id == 2:\n",
    "            n = 1000\n",
    "        else:\n",
    "            n = 10000\n",
    "            \n",
    "        \n",
    "        X_t = cl[f\"X_a{self.i}_sc\"][:n]\n",
    "        X_s = cl[f\"X_a{self.i}_sc\"][n:]\n",
    "        y_t = cl[f\"y_a{self.i}\"][:n]\n",
    "        y_s = cl[f\"y_a{self.i}\"][n:]\n",
    "\n",
    "           \n",
    "        self.input_size = len(X_t)\n",
    "        self.n_features = len(X_t[1])\n",
    "        self.h_neurons=h_neurons\n",
    "        self.w = None\n",
    "        self.b = None\n",
    "        self.batch_size=batch_size\n",
    "        self.reg_term = np.eye(self.h_neurons) * alpha\n",
    "        self.X_t = X_t\n",
    "        self.X_s = X_s\n",
    "        self.y_t = y_t\n",
    "        self.y_s = y_s\n",
    "          \n",
    "            \n",
    "    def get_Nfs(self):\n",
    "        return self.input_size, self.n_features\n",
    "    \n",
    "    def set_W_b(self,w,b):\n",
    "        self.w=w\n",
    "        self.b=b  \n",
    "    \n",
    "    def batches(self):\n",
    "        \n",
    "        batch_X=[]\n",
    "        batch_y=[]\n",
    "        \n",
    "        if self.batch_size >= self.input_size:\n",
    "            batch_X.append(self.X_t)\n",
    "            batch_y.append(self.y_t)\n",
    "             \n",
    "        else:\n",
    "            for i in range (0, self.input_size , self.batch_size):\n",
    "                batch_X.append(self.X_t[i:i + self.batch_size-1])\n",
    "                batch_y.append(self.y_t[i:i + self.batch_size-1])\n",
    "            \n",
    "        for X,y in zip(batch_X,batch_y): \n",
    "            \n",
    "             # Compute the hidden layer output \n",
    "            H = np.tanh(np.dot(X, self.w) + self.b)  # Apply activation function (tanh)\n",
    "\n",
    "            HTH = H.T @ H + self.reg_term\n",
    "            HTy = H.T @ y\n",
    "              \n",
    "            yield HTH, HTy               \n",
    "   \n",
    "    def predict_test(self, B):\n",
    "                                    \n",
    "        # Calculate the predicted output on the testing set\n",
    "        H_test = np.tanh(np.dot(self.X_s, self.w) + self.b)\n",
    "        pred_test = np.dot(H_test, B)\n",
    "        r2 = r2_score(self.y_s, pred_test)\n",
    "        return r2\n"
   ]
  },
  {
   "cell_type": "code",
   "execution_count": 763,
   "id": "51a51449-9aea-465c-a9f1-803f214bb421",
   "metadata": {},
   "outputs": [],
   "source": [
    "\n",
    "\n",
    "def par_B(cl1,cl2,cl3):\n",
    "    # Perform some operation using a for loop\n",
    "    # combine some client data\n",
    "    clients = [cl1, cl2, cl3]\n",
    "    HtH1 = None\n",
    "    HtY1 = None\n",
    "    Bd1={}\n",
    "    Bd=[]\n",
    "\n",
    "    for client in clients:\n",
    "         \n",
    "        data = client.batches()\n",
    "\n",
    "        for hth, hty in data:\n",
    "\n",
    "            HtH1 = hth\n",
    "            HtY1 = hty\n",
    "\n",
    "            #print(f\"Client   : {client.get_Nfs()}\")\n",
    "            Bd.append(np.linalg.solve(HtH1, HtY1))\n",
    "            #print(f\"Bd: {Bd}\")\n",
    "        Bd1[client.i] = Bd \n",
    "        Bd=[]\n",
    "\n",
    "    return Bd1"
   ]
  },
  {
   "cell_type": "code",
   "execution_count": null,
   "id": "c206c15f-c998-4af6-bd76-958d3e15fc8b",
   "metadata": {},
   "outputs": [],
   "source": []
  },
  {
   "cell_type": "code",
   "execution_count": 764,
   "id": "4dea741b-83b8-4bf7-9fc0-4fe42ae61460",
   "metadata": {},
   "outputs": [],
   "source": [
    "# I am a server now\n",
    "# initialize ELM parameters shared among clients\n",
    "\n",
    "hidden_size=20\n",
    "\n",
    "# initialize clients, server sends ELM parameters to clients\n",
    "cl1 = clientClass(1, batch_size=100, h_neurons=hidden_size, alpha=0.001)\n",
    "cl2 = clientClass(2, batch_size=300, h_neurons=hidden_size, alpha=0.001)\n",
    "cl3 = clientClass(3, batch_size=1000, h_neurons=hidden_size, alpha=0.001)\n",
    "\n",
    "#cl1_input_size,cl1_n_features =cl1.get_Nfs()\n",
    "#cl2_input_size,cl2_n_features =cl2.get_Nfs()\n",
    "#cl3_input_size,cl3_n_features =cl3.get_Nfs()\n",
    "\n",
    "input_size=8\n",
    "w_inital = np.random.rand(input_size, hidden_size)\n",
    "bias_inital = np.random.rand(hidden_size)\n",
    "\n",
    "#clients = [cl1, cl2, cl3]\n",
    "cl1.set_W_b(w_inital, bias_inital)\n",
    "cl2.set_W_b(w_inital, bias_inital)\n",
    "cl3.set_W_b(w_inital, bias_inital)\n"
   ]
  },
  {
   "cell_type": "code",
   "execution_count": 765,
   "id": "d468e830-ab2c-4124-8bbd-3762c165ea3f",
   "metadata": {},
   "outputs": [],
   "source": [
    "def average_matrices_Sl(matrix1):\n",
    "    # Check if the matrices have the same shape\n",
    "    if len(matrix1) == 0:\n",
    "        return None  # Handle the case of an empty list\n",
    "    average_matrix = sum(matrix1 ) / len(matrix1)\n",
    "    return average_matrix\n",
    "    "
   ]
  },
  {
   "cell_type": "code",
   "execution_count": 766,
   "id": "13b67fb7-2d2c-488f-9a5c-4985c2ba090d",
   "metadata": {},
   "outputs": [],
   "source": [
    "def global_B(B):\n",
    "    ave_client123=[]\n",
    "    for i in range(1,len(B)+1):\n",
    "        print(f\"Client_{i}\")\n",
    "        ave_client123.append(average_matrices_Sl(B[i]))\n",
    "        print(f\"{average_matrices_Sl(B_1i[i])}\")\n",
    "        print()\n",
    "    print(f\"global_B: {average_matrices_Sl(ave_client123)}\")\n",
    "    return average_matrices_Sl(ave_client123)\n",
    "\n"
   ]
  },
  {
   "cell_type": "code",
   "execution_count": 767,
   "id": "ca7d814f-d770-4091-a791-6f81907186d0",
   "metadata": {},
   "outputs": [],
   "source": [
    "B_1i=par_B(cl1,cl2,cl3)"
   ]
  },
  {
   "cell_type": "code",
   "execution_count": 768,
   "id": "89da207a-030b-4e53-8a38-5a8fd8752e11",
   "metadata": {},
   "outputs": [
    {
     "data": {
      "text/plain": [
       "{1: [array([-0.16933469, -1.000057  ,  0.4128051 ,  2.10781281, -0.95159671,\n",
       "         -1.02649389,  0.26680507, -0.05615385, -0.40754701, -0.06856119,\n",
       "          1.87422439,  1.49143716, -0.20454003,  0.5042078 , -1.538691  ,\n",
       "         -0.46490047, -0.97797467, -0.67908325,  0.02680227,  1.15890938])],\n",
       " 2: [array([ -0.31442912,  -0.58895931,  -0.21350481,   1.61276705,\n",
       "          -2.4415261 ,   0.74929013,   0.70311663,   0.50170554,\n",
       "          -1.19452076,  13.10196772,  -0.33561967,   0.40369911,\n",
       "           0.27954207,  -0.39840468,   2.04155327,  -0.41355005,\n",
       "         -13.71367854,  -0.22094864,  -0.77103194,  -0.01463847]),\n",
       "  array([ 0.4180349 , -0.70450403, -0.14435629, -3.10292407,  0.63002801,\n",
       "          0.87887043, -0.85578475,  0.62496659,  1.32339078, -0.75028125,\n",
       "         -0.31070456,  0.58520712,  0.03453499, -0.19541292,  1.97320361,\n",
       "         -0.41400257,  0.66200978, -0.52420127, -1.74027955,  0.04074105]),\n",
       "  array([-0.09881171, -0.75533648, -0.57873447, -0.2287038 ,  3.40629052,\n",
       "          1.0167567 ,  0.21377124,  0.31332121, -1.92517615, -0.23866632,\n",
       "         -0.2665023 ,  0.86352217, -0.31427976, -0.17944772,  1.02850476,\n",
       "         -0.19584076, -2.8413148 , -0.24008653, -0.78817517,  0.24334704]),\n",
       "  array([-1.34994115, -0.7499983 ,  0.45114005,  0.28895572, -0.82657476,\n",
       "          0.24056459,  0.6426432 , -0.18823203, -1.39579379, -1.34300176,\n",
       "          0.2806275 ,  0.2392139 ,  0.48600401,  0.14184321,  0.73873541,\n",
       "          0.3781317 , -0.04645541, -1.03951208,  0.34156682,  0.50320343])],\n",
       " 3: [array([-1.44490023, -1.27729658,  0.24985859,  1.85254211,  0.34911105,\n",
       "          1.19468179,  0.75803087, -0.01393403, -0.09934981, -2.88282475,\n",
       "          0.08799175,  0.60905522, -0.05653589,  0.03978749, -0.54861032,\n",
       "         -0.66918303,  0.06991063, -0.00368489,  0.13542319,  0.04254801]),\n",
       "  array([-6.45441299e-01, -1.31245050e+00, -5.46647021e-01,  7.10154548e-01,\n",
       "          1.39479485e-01,  1.90168703e+00,  6.64039753e-01, -2.04527359e-02,\n",
       "          2.71177108e-01, -7.42396894e-01,  4.04108865e-01,  1.44747520e-02,\n",
       "         -1.24607087e-02,  6.20831221e-01,  3.70507278e-01, -4.27125834e-01,\n",
       "         -8.85939749e-01, -3.45485854e-01, -4.98247855e-04, -2.37455451e-01]),\n",
       "  array([-0.03466426, -0.3547953 , -0.33913062, -0.17030916, -0.08363004,\n",
       "          0.53758173,  0.31698324,  0.24691875, -0.25091631, -0.36926154,\n",
       "          0.05621425,  0.16925358, -0.14636978,  0.03964708,  0.28526086,\n",
       "          0.01385563, -0.21471139, -0.05071875, -0.12241051,  0.00237147]),\n",
       "  array([ 2.60938626, -1.28363571, -0.12121313,  0.94333493, -1.80793834,\n",
       "          0.76997316,  0.95707607,  0.15297097, -3.77246573,  0.7848887 ,\n",
       "         -0.50322916,  1.02883421,  0.29833665, -0.24888108,  0.42997556,\n",
       "         -0.60167159, -2.01265637, -0.35062891, -0.19839732,  0.15648982]),\n",
       "  array([-0.59943821, -1.64428534, -0.5105376 , -3.0579782 , -0.34302438,\n",
       "          0.93190823, -0.06263078,  0.79817527, -1.27219498,  2.58309136,\n",
       "          0.22594425,  0.47886491,  0.20573491,  0.18775325,  0.46450702,\n",
       "         -0.12272302, -0.85174928, -0.33963929,  0.62326279, -0.04282649]),\n",
       "  array([-3.56830865, -1.07150178, -0.50162525,  4.20130679,  0.01026968,\n",
       "          0.79502093,  0.31365093,  0.826914  , -1.28501864, -8.76337244,\n",
       "         -0.86592908,  0.63147121,  0.0930945 , -0.24235232,  0.03041557,\n",
       "         -0.31088703,  6.59213593, -0.59954982,  0.77123649,  0.06637077]),\n",
       "  array([-0.59859173, -1.01466095, -0.05892396, -0.09878078,  0.30646762,\n",
       "          1.01423123,  7.01597124,  0.49696425, -0.83886353, -6.01270391,\n",
       "          0.02069291,  0.38069671,  0.12576044,  0.01818244, -0.25415102,\n",
       "         -0.35389116, -1.36982221, -0.34608004,  0.03072807, -0.1068396 ]),\n",
       "  array([-0.69535126, -1.47807514, -0.17945578, -0.69214605, -0.21718738,\n",
       "          0.94623139, -0.30490654,  0.70881384, -0.73788552, -0.69970428,\n",
       "          0.24524403,  0.45150216,  0.28168127, -0.32098811,  1.14025222,\n",
       "         -0.25106188, -0.37681634, -0.9864692 ,  0.13994562,  0.31200977]),\n",
       "  array([-0.9760007 , -2.1082113 , -0.80896764,  0.4562391 , -0.16252247,\n",
       "          1.47839049,  0.71806393, -0.2728256 ,  0.02731249, -0.92887236,\n",
       "         -0.1825269 ,  0.85787212,  0.07806479,  0.3857959 ,  0.25732158,\n",
       "         -0.16565375, -0.7429376 ,  0.13761958, -0.0769326 ,  0.0307837 ]),\n",
       "  array([-8.77648846e-01, -1.26963795e+00, -1.03054054e+00,  2.04119440e+00,\n",
       "         -7.94022402e-01,  1.24331800e+00, -1.73444889e-01, -2.52083470e-01,\n",
       "          1.75182255e-03, -4.12736783e-01,  1.23282094e-01,  5.13633636e-01,\n",
       "         -4.81232302e-02,  7.11778088e-01,  8.82022551e-01,  8.47880045e-02,\n",
       "         -8.99634144e-01, -2.07418027e-01, -5.84596729e-01,  3.79033434e-01])]}"
      ]
     },
     "execution_count": 768,
     "metadata": {},
     "output_type": "execute_result"
    }
   ],
   "source": [
    "B_1i"
   ]
  },
  {
   "cell_type": "code",
   "execution_count": 769,
   "id": "8722a639-3bbb-4b9f-a66b-a256e464403d",
   "metadata": {},
   "outputs": [
    {
     "name": "stdout",
     "output_type": "stream",
     "text": [
      "Client_1\n",
      "[-0.16933469 -1.000057    0.4128051   2.10781281 -0.95159671 -1.02649389\n",
      "  0.26680507 -0.05615385 -0.40754701 -0.06856119  1.87422439  1.49143716\n",
      " -0.20454003  0.5042078  -1.538691   -0.46490047 -0.97797467 -0.67908325\n",
      "  0.02680227  1.15890938]\n",
      "\n",
      "Client_2\n",
      "[-0.33628677 -0.69969953 -0.12136388 -0.35747627  0.19205442  0.72137046\n",
      "  0.17593658  0.31294033 -0.79802498  2.6925046  -0.15804976  0.52291058\n",
      "  0.12145033 -0.15785553  1.44549926 -0.16131542 -3.98485974 -0.50618713\n",
      " -0.73947996  0.19316326]\n",
      "\n",
      "Client_3\n",
      "[-0.68309589 -1.28145506 -0.3847183   0.61855577 -0.26029972  1.0813024\n",
      "  1.02028338  0.26714612 -0.79564531 -1.74438929 -0.0388207   0.51356585\n",
      "  0.08191829  0.1191554   0.30575013 -0.28035536 -0.06922205 -0.30920552\n",
      "  0.07177608  0.06024854]\n",
      "\n",
      "global_B: [-3.96239118e-01 -9.93737197e-01 -3.10923578e-02  7.89630768e-01\n",
      " -3.39947337e-01  2.58726323e-01  4.87675010e-01  1.74644202e-01\n",
      " -6.67072435e-01  2.93184704e-01  5.59117977e-01  8.42637863e-01\n",
      " -3.90469550e-04  1.55169223e-01  7.08527956e-02 -3.02190420e-01\n",
      " -1.67735215e+00 -4.98158633e-01 -2.13633872e-01  4.70773730e-01]\n"
     ]
    }
   ],
   "source": [
    "g_B_it1=global_B(B_1i)"
   ]
  },
  {
   "cell_type": "code",
   "execution_count": 770,
   "id": "766ff939-342e-45e1-b14e-8b7a00f91cd3",
   "metadata": {},
   "outputs": [
    {
     "data": {
      "text/plain": [
       "array([-3.96239118e-01, -9.93737197e-01, -3.10923578e-02,  7.89630768e-01,\n",
       "       -3.39947337e-01,  2.58726323e-01,  4.87675010e-01,  1.74644202e-01,\n",
       "       -6.67072435e-01,  2.93184704e-01,  5.59117977e-01,  8.42637863e-01,\n",
       "       -3.90469550e-04,  1.55169223e-01,  7.08527956e-02, -3.02190420e-01,\n",
       "       -1.67735215e+00, -4.98158633e-01, -2.13633872e-01,  4.70773730e-01])"
      ]
     },
     "execution_count": 770,
     "metadata": {},
     "output_type": "execute_result"
    }
   ],
   "source": [
    "g_B_it1"
   ]
  },
  {
   "cell_type": "code",
   "execution_count": null,
   "id": "a26d80d8-08cf-4dd0-be6b-d7966911ff17",
   "metadata": {},
   "outputs": [],
   "source": []
  },
  {
   "cell_type": "code",
   "execution_count": 771,
   "id": "4a0f7270-c177-4260-97c7-53b4fadfd99c",
   "metadata": {},
   "outputs": [
    {
     "data": {
      "text/plain": [
       "-25.117573224198665"
      ]
     },
     "execution_count": 771,
     "metadata": {},
     "output_type": "execute_result"
    }
   ],
   "source": [
    "r2_it1=cl1.predict_test(g_B_it1)\n",
    "r2_it1"
   ]
  },
  {
   "cell_type": "code",
   "execution_count": 772,
   "id": "ade8088a-0c3b-48a0-adfb-575f1e7bd071",
   "metadata": {},
   "outputs": [
    {
     "data": {
      "text/plain": [
       "-0.42329902970394784"
      ]
     },
     "execution_count": 772,
     "metadata": {},
     "output_type": "execute_result"
    }
   ],
   "source": [
    "r2_it2=cl2.predict_test(g_B_it1)\n",
    "r2_it2"
   ]
  },
  {
   "cell_type": "code",
   "execution_count": 773,
   "id": "4ff574ed-29b6-4a31-a7b7-2eb95635d260",
   "metadata": {},
   "outputs": [
    {
     "data": {
      "text/plain": [
       "-0.41988482209820366"
      ]
     },
     "execution_count": 773,
     "metadata": {},
     "output_type": "execute_result"
    }
   ],
   "source": [
    "r2_it3=cl3.predict_test(g_B_it1)\n",
    "r2_it3"
   ]
  },
  {
   "cell_type": "code",
   "execution_count": null,
   "id": "7c19a410-ed1f-4271-9f37-5429c1f44ee4",
   "metadata": {},
   "outputs": [],
   "source": []
  },
  {
   "cell_type": "code",
   "execution_count": null,
   "id": "ebfc2f5f-80f6-46f2-beb8-7f8b72534d73",
   "metadata": {},
   "outputs": [],
   "source": []
  }
 ],
 "metadata": {
  "kernelspec": {
   "display_name": "Python 3 (ipykernel)",
   "language": "python",
   "name": "python3"
  },
  "language_info": {
   "codemirror_mode": {
    "name": "ipython",
    "version": 3
   },
   "file_extension": ".py",
   "mimetype": "text/x-python",
   "name": "python",
   "nbconvert_exporter": "python",
   "pygments_lexer": "ipython3",
   "version": "3.9.12"
  }
 },
 "nbformat": 4,
 "nbformat_minor": 5
}
